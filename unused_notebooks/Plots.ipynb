{
 "cells": [
  {
   "cell_type": "markdown",
   "metadata": {},
   "source": [
    "# Real Bogus Experiment\n",
    "\n",
    "We used two subtraction techniques\n",
    "\n",
    "Zackay's and Bramich's DIA algorithms.\n",
    "Both were applied on the same new--ref pair of images and the same source identification algorithm.\n",
    "Both dataset are comparable... "
   ]
  },
  {
   "cell_type": "code",
   "execution_count": null,
   "metadata": {
    "collapsed": true
   },
   "outputs": [],
   "source": [
    "import numpy as np\n",
    "import matplotlib.pyplot as plt\n",
    "import seaborn as sns\n",
    "%matplotlib inline"
   ]
  },
  {
   "cell_type": "code",
   "execution_count": null,
   "metadata": {
    "collapsed": true
   },
   "outputs": [],
   "source": [
    "sns.set_context(font_scale=1.2)"
   ]
  },
  {
   "cell_type": "code",
   "execution_count": null,
   "metadata": {
    "collapsed": true
   },
   "outputs": [],
   "source": [
    "from sqlalchemy import create_engine\n",
    "import pandas as pd"
   ]
  },
  {
   "cell_type": "code",
   "execution_count": null,
   "metadata": {
    "collapsed": true
   },
   "outputs": [],
   "source": [
    "import os\n",
    "plot_dir = os.path.abspath('./plots/.')\n",
    "if not os.path.isdir(plot_dir):\n",
    "    os.makedirs(plot_dir)"
   ]
  },
  {
   "cell_type": "code",
   "execution_count": null,
   "metadata": {
    "collapsed": true
   },
   "outputs": [],
   "source": [
    "engine = create_engine('sqlite:///../newRBpipeline/rbogus-dev.db')"
   ]
  },
  {
   "cell_type": "markdown",
   "metadata": {},
   "source": [
    "Asking to the database for the undetected objects (False Negatives)"
   ]
  },
  {
   "cell_type": "code",
   "execution_count": null,
   "metadata": {
    "collapsed": true
   },
   "outputs": [],
   "source": [
    "simulated = pd.read_sql_query(\"\"\"SELECT * FROM Simulated\"\"\", engine)"
   ]
  },
  {
   "cell_type": "code",
   "execution_count": null,
   "metadata": {
    "collapsed": true
   },
   "outputs": [],
   "source": [
    "und_z = pd.read_sql_query(\"\"\"SELECT S.x, S.y, S.app_mag, S.image_id, S.r_scales, S.gx_mag, U.simulated_id \n",
    "                             FROM Simulated S INNER JOIN Undetected U\n",
    "                             ON S.id==U.simulated_id\"\"\", \n",
    "                          engine)"
   ]
  },
  {
   "cell_type": "code",
   "execution_count": null,
   "metadata": {
    "collapsed": true
   },
   "outputs": [],
   "source": [
    "und_b = pd.read_sql_query(\"\"\"SELECT S.x, S.y, S.app_mag, S.image_id, S.r_scales, S.gx_mag, U.simulated_id \n",
    "                             FROM Simulated S INNER JOIN UndetectedOIS U\n",
    "                             ON S.id==U.simulated_id\"\"\", \n",
    "                          engine)"
   ]
  },
  {
   "cell_type": "markdown",
   "metadata": {},
   "source": [
    "Querying the database to obtain the tables related to the detections."
   ]
  },
  {
   "cell_type": "code",
   "execution_count": null,
   "metadata": {
    "collapsed": true
   },
   "outputs": [],
   "source": [
    "dt_zps = pd.merge(pd.read_sql_table('Detected', engine),\n",
    "                  pd.read_sql_query(\"\"\"SELECT \n",
    "                                        Detected.id,\n",
    "                                        Simulated.app_mag as sim_mag,\n",
    "                                        Simulated.id as sim_id,\n",
    "                                        Simulated.r_scales as r_scales,\n",
    "                                        Simulated.gx_mag as gx_mag \n",
    "                                    FROM Detected\n",
    "                                        LEFT JOIN Reals\n",
    "                                            ON Detected.id==Reals.detected_id\n",
    "                                        LEFT JOIN Simulated\n",
    "                                            ON Simulated.id==Reals.simulated_id\"\"\", engine),\n",
    "                                      on='id', suffixes=('',''))\n",
    "\n",
    "dt_ois = pd.merge(pd.read_sql_table('DetectedOIS', engine),\n",
    "                  pd.read_sql_query(\"\"\"SELECT \n",
    "                                        DetectedOIS.id,\n",
    "                                        Simulated.app_mag as sim_mag,\n",
    "                                        Simulated.id as sim_id,\n",
    "                                        Simulated.r_scales as r_scales,\n",
    "                                        Simulated.gx_mag as gx_mag  \n",
    "                                    FROM DetectedOIS\n",
    "                                        LEFT JOIN RealsOIS\n",
    "                                            ON DetectedOIS.id==RealsOIS.detected_id\n",
    "                                        LEFT JOIN Simulated\n",
    "                                            ON Simulated.id==RealsOIS.simulated_id\"\"\", engine),\n",
    "                                      on='id', suffixes=('',''))"
   ]
  },
  {
   "cell_type": "code",
   "execution_count": null,
   "metadata": {
    "collapsed": true,
    "scrolled": false
   },
   "outputs": [],
   "source": [
    "# dt_ois.IS_REAL = dt_ois.IS_REAL.astype(int)\n",
    "# dt_zps.IS_REAL = dt_zps.IS_REAL.astype(int)"
   ]
  },
  {
   "cell_type": "markdown",
   "metadata": {},
   "source": [
    "### Some plots of simulated objects"
   ]
  },
  {
   "cell_type": "code",
   "execution_count": null,
   "metadata": {
    "collapsed": true
   },
   "outputs": [],
   "source": [
    "plt.figure(figsize=(4,3))\n",
    "plt.hist(simulated['app_mag'], cumulative=True)\n",
    "plt.xlabel(r'$mag$')\n",
    "plt.ylabel(r'$\\int_{-\\infty}^{mag}\\phi(m\\prime)dm\\prime$')\n",
    "plt.savefig(os.path.join(plot_dir, 'lum_fun_simulated.png'), dpi=700)"
   ]
  },
  {
   "cell_type": "markdown",
   "metadata": {},
   "source": [
    "### Analyzing the fraction of type of objects for each dataset"
   ]
  },
  {
   "cell_type": "code",
   "execution_count": null,
   "metadata": {
    "collapsed": true
   },
   "outputs": [],
   "source": [
    "ois = [sum(dt_ois.IS_REAL), len(und_b), len(dt_ois.IS_REAL)-sum(dt_ois.IS_REAL)]\n",
    "zps = [sum(dt_zps.IS_REAL), len(und_z), len(dt_zps.IS_REAL)-sum(dt_zps.IS_REAL)]\n",
    "df2 = pd.DataFrame([zps, ois], columns=['Real', 'False Neg', 'Bogus'])"
   ]
  },
  {
   "cell_type": "code",
   "execution_count": null,
   "metadata": {
    "collapsed": true
   },
   "outputs": [],
   "source": [
    "print df2"
   ]
  },
  {
   "cell_type": "code",
   "execution_count": null,
   "metadata": {
    "collapsed": true
   },
   "outputs": [],
   "source": [
    "plt.figure(figsize=(4, 3))\n",
    "df2.plot.barh(stacked=True)\n",
    "plt.title('Fraction of classes')\n",
    "plt.xscale('linear')\n",
    "plt.xlim(0, 140000)\n",
    "plt.yticks([0,1], ['Zackay', 'Bramich'])\n",
    "\n",
    "plt.legend(loc='lower right')\n",
    "plt.savefig(os.path.join(plot_dir, 'fractions_classes.svg'), dpi=700)"
   ]
  },
  {
   "cell_type": "markdown",
   "metadata": {},
   "source": [
    "## Magnitude offset\n",
    "\n",
    "We need to calculate the magnitude offset to understand how to compare perfomances."
   ]
  },
  {
   "cell_type": "code",
   "execution_count": null,
   "metadata": {
    "collapsed": true
   },
   "outputs": [],
   "source": [
    "cx_zps = pd.read_sql_query(\n",
    "\"\"\"SELECT \n",
    "  Detected.MAG_ISO, \n",
    "  Detected.MAG_AUTO, \n",
    "  Detected.MAG_APER,\n",
    "  Simulated.app_mag as sim_mag,\n",
    "  Simulated.id as sim_id \n",
    "FROM Detected\n",
    "  INNER JOIN Reals\n",
    "    ON Detected.id==Reals.detected_id\n",
    "  INNER JOIN Simulated\n",
    "    ON Simulated.id==Reals.simulated_id\"\"\", engine)"
   ]
  },
  {
   "cell_type": "code",
   "execution_count": null,
   "metadata": {
    "collapsed": true
   },
   "outputs": [],
   "source": [
    "cx_ois = pd.read_sql_query(\n",
    "\"\"\"SELECT \n",
    "  DetectedOIS.MAG_ISO,\n",
    "  DetectedOIS.MAG_AUTO,\n",
    "  DetectedOIS.MAG_APER,\n",
    "  Simulated.app_mag as sim_mag,\n",
    "  Simulated.id as sim_id \n",
    "FROM DetectedOIS\n",
    "  INNER JOIN RealsOIS\n",
    "    ON DetectedOIS.id==RealsOIS.detected_id\n",
    "  INNER JOIN Simulated\n",
    "    ON Simulated.id==RealsOIS.simulated_id\"\"\", engine)"
   ]
  },
  {
   "cell_type": "code",
   "execution_count": null,
   "metadata": {
    "collapsed": true
   },
   "outputs": [],
   "source": [
    "detections = pd.merge(cx_ois, cx_zps, on='sim_id', suffixes=('_ois','_zps'))"
   ]
  },
  {
   "cell_type": "code",
   "execution_count": null,
   "metadata": {
    "collapsed": true
   },
   "outputs": [],
   "source": [
    "detections['MAG_OFFSET_zps'] = detections['sim_mag_zps'] - detections['MAG_ISO_zps']\n",
    "detections['MAG_OFFSET_ois'] = detections['sim_mag_ois'] - detections['MAG_ISO_ois']"
   ]
  },
  {
   "cell_type": "code",
   "execution_count": null,
   "metadata": {
    "collapsed": true
   },
   "outputs": [],
   "source": [
    "plt.figure(figsize=(6,3))\n",
    "plt.subplot(121)\n",
    "plt.hist(detections['MAG_OFFSET_ois'], log=True, color='red')\n",
    "plt.title('Bramich')\n",
    "plt.xlabel(r'$\\Delta$ Mag')\n",
    "plt.subplot(122)\n",
    "plt.hist(detections['MAG_OFFSET_zps'], log=True, color='blue')\n",
    "plt.xlabel(r'$\\Delta$ Mag')\n",
    "plt.title('Zackay')\n",
    "#plt.show()\n",
    "\n",
    "plt.savefig(os.path.join(plot_dir, 'mag_offset.png'), format='png', dpi=700)"
   ]
  },
  {
   "cell_type": "code",
   "execution_count": null,
   "metadata": {
    "collapsed": true
   },
   "outputs": [],
   "source": [
    "plt.figure(figsize=(6, 4))\n",
    "plt.plot(detections['sim_mag_zps'], detections['MAG_ISO_zps'], 'b.', label='Zackay')\n",
    "plt.plot(detections['sim_mag_ois'], detections['MAG_ISO_ois'], 'r.', label='Bramich')\n",
    "plt.ylabel('Mag Aper')\n",
    "plt.xlabel('Simulated Mag')\n",
    "plt.title('Simulated Mag vs Detected Aperture Mag')\n",
    "plt.legend(loc='best')\n",
    "plt.savefig(os.path.join(plot_dir, 'aper_vs_simulated_mag.png'), format='png', dpi=700)"
   ]
  },
  {
   "cell_type": "code",
   "execution_count": null,
   "metadata": {
    "collapsed": true
   },
   "outputs": [],
   "source": [
    "print 'Mean magniutde difference for Zackay is {}'.format(detections.MAG_OFFSET_zps.mean())\n",
    "print 'Mean magniutde difference for Bramich is {}'.format(detections.MAG_OFFSET_ois.mean())"
   ]
  },
  {
   "cell_type": "code",
   "execution_count": null,
   "metadata": {
    "collapsed": true
   },
   "outputs": [],
   "source": [
    "dt_ois['mag'] = dt_ois['MAG_ISO'] + detections.MAG_OFFSET_ois.mean()\n",
    "dt_zps['mag'] = dt_zps['MAG_ISO'] + detections.MAG_OFFSET_zps.mean()"
   ]
  },
  {
   "cell_type": "code",
   "execution_count": null,
   "metadata": {
    "collapsed": true
   },
   "outputs": [],
   "source": [
    "plt.plot(detections['sim_mag_zps'], \n",
    "         detections['MAG_ISO_zps'] + detections.MAG_OFFSET_zps.mean(),\n",
    "         'b.', label='Zackay', alpha=0.3)\n",
    "plt.plot(detections['sim_mag_ois'],\n",
    "         detections['MAG_ISO_ois'] + detections.MAG_OFFSET_ois.mean(),\n",
    "         'r.', label='Bramich', alpha=0.3)\n",
    "plt.ylabel('Mag Aper')\n",
    "plt.xlabel('Simulated Mag')\n",
    "plt.title('Simulated Mag vs Detected Aperture Mag')\n",
    "plt.legend(loc='best')\n",
    "\n",
    "plt.savefig(os.path.join(plot_dir, 'corrected_aper_vs_simulated_mag.png'), format='png', dpi=900)"
   ]
  },
  {
   "cell_type": "code",
   "execution_count": null,
   "metadata": {
    "collapsed": true
   },
   "outputs": [],
   "source": [
    "dt_ois['mu'] = dt_ois.mag/(dt_ois.A_IMAGE*dt_ois.B_IMAGE)\n",
    "dt_zps['mu'] = dt_zps.mag/(dt_zps.A_IMAGE*dt_zps.B_IMAGE)"
   ]
  },
  {
   "cell_type": "code",
   "execution_count": null,
   "metadata": {
    "collapsed": true
   },
   "outputs": [],
   "source": [
    "bogus_b = dt_ois[dt_ois.IS_REAL==False]\n",
    "reals_b = dt_ois[dt_ois.IS_REAL==True]\n",
    "\n",
    "bogus_z = dt_zps[dt_zps.IS_REAL==False]\n",
    "reals_z = dt_zps[dt_zps.IS_REAL==True]"
   ]
  },
  {
   "cell_type": "markdown",
   "metadata": {
    "collapsed": true
   },
   "source": [
    "## Luminosity function \n",
    "\n",
    "Bogus, Real, and FN luminosity functions.\n"
   ]
  },
  {
   "cell_type": "code",
   "execution_count": null,
   "metadata": {
    "collapsed": true
   },
   "outputs": [],
   "source": [
    "plt.figure(figsize=(10,9))\n",
    "\n",
    "#magnitude bins\n",
    "bins = np.arange(18, 25, 0.25)\n",
    "\n",
    "plt.subplot(221)\n",
    "plt.hist(reals_b.mag, alpha=0.5, bins=bins, normed=True, #shade=True, \n",
    "            cumulative=True, label='Bramich', color='red')\n",
    "plt.hist(reals_z.mag, alpha=0.5, bins=bins, normed=True, #shade=True, \n",
    "            cumulative=True, label='Zackay', color='blue')\n",
    "\n",
    "plt.xlim(18, 23.1)\n",
    "plt.title('Cummulative Luminosity function Reals')\n",
    "plt.ylabel(r'$\\phi(m)dm$')\n",
    "plt.legend(loc='best')\n",
    "plt.xlabel(r'$m$')\n",
    "\n",
    "plt.subplot(222)\n",
    "plt.hist(bogus_b.mag, alpha=0.5, bins=bins, normed=True, #shade=True, \n",
    "            cumulative=True, label='Bramich', color='red')\n",
    "plt.hist(bogus_z.mag, alpha=0.5, bins=bins, normed=True, #shade=True, \n",
    "            cumulative=True, label='Zackay', color='blue')\n",
    "\n",
    "plt.xlim(20, 24.5)\n",
    "plt.ylabel(r'$\\phi(m)dm$')\n",
    "plt.legend(loc='best')\n",
    "plt.xlabel(r'$m$')\n",
    "plt.title('Cummulative Luminosity function Bogus')\n",
    "\n",
    "#signal to noise bins\n",
    "bins = np.arange(0, 140, 3)\n",
    "\n",
    "plt.subplot(223)\n",
    "plt.hist(reals_b.FLUX_ISO/reals_b.FLUXERR_ISO,  bins=bins, normed=True, #shade=True, \n",
    "            label='Bramich', color='red', cumulative=-1, alpha=0.4)\n",
    "plt.hist(reals_z.FLUX_ISO/reals_z.FLUXERR_ISO,  bins=bins, normed=True, #shade=True, \n",
    "         label='Zackay', color='blue', cumulative=-1, alpha=0.4)\n",
    "\n",
    "plt.xlim(110, 0)\n",
    "plt.title('Cummulative S/N function Reals')\n",
    "plt.legend(loc='best')\n",
    "plt.ylabel(r'$\\phi$')\n",
    "plt.xlabel('S/N')\n",
    "\n",
    "plt.subplot(224)\n",
    "plt.hist(bogus_b.FLUX_ISO/bogus_b.FLUXERR_ISO, bins=bins, normed=True, #shade=True, \n",
    "         label='Bramich', color='red', cumulative=-1, alpha=0.5)\n",
    "plt.hist(bogus_z.FLUX_ISO/bogus_z.FLUXERR_ISO, bins=bins, normed=True, #shade=True, \n",
    "         label='Zackay', color='blue', cumulative=-1, alpha=0.5)\n",
    "\n",
    "plt.xlim(70, 0)\n",
    "plt.title('Cummulative S/N function Bogus')\n",
    "plt.ylabel(r'$\\phi$')\n",
    "plt.legend(loc='best')\n",
    "plt.xlabel('S/N')\n",
    "\n",
    "plt.tight_layout()\n",
    "#plt.show()\n",
    "\n",
    "plt.savefig(os.path.join(plot_dir, 'luminosities_functions.png'), format='png', dpi=700)"
   ]
  },
  {
   "cell_type": "markdown",
   "metadata": {},
   "source": [
    "## What about the FN?\n",
    "\n",
    "We should check on the lost objects."
   ]
  },
  {
   "cell_type": "markdown",
   "metadata": {},
   "source": [
    "### Luminosity function for Undetected"
   ]
  },
  {
   "cell_type": "code",
   "execution_count": null,
   "metadata": {
    "collapsed": true,
    "scrolled": false
   },
   "outputs": [],
   "source": [
    "bins = np.arange(18, 24, 0.1)\n",
    "\n",
    "plt.figure()\n",
    "# sns.kdeplot(und_z.app_mag, cumulative=True, shade=True, color='blue', label='Zackay')\n",
    "# sns.kdeplot(und_b.app_mag, cumulative=True, shade=True, color='red', label='Bramich')\n",
    "plt.hist(und_z.app_mag, cumulative=True, bins=bins,\n",
    "         #histtype='stepfilled', \n",
    "         color='blue', label='Zackay', alpha=0.5)\n",
    "plt.hist(und_b.app_mag, cumulative=True, bins=bins, \n",
    "         #histtype='stepfilled', \n",
    "         color='red', label='Bramich', alpha=0.5)\n",
    "\n",
    "\n",
    "plt.legend(loc='upper left')\n",
    "plt.ylabel(r'$\\int_{-\\infty}^{m}\\phi(m\\prime)dm\\prime$')\n",
    "plt.xlabel(r'$m$')\n",
    "plt.title('Cummulative Luminosity Function of False Negatives')\n",
    "plt.xlim(21., 23.1)\n",
    "#plt.show()\n",
    "\n",
    "plt.savefig(os.path.join(plot_dir, 'lum_function_FNegatives.png'), format='png', dpi=700)"
   ]
  },
  {
   "cell_type": "markdown",
   "metadata": {},
   "source": [
    "### Are there coincident objects?"
   ]
  },
  {
   "cell_type": "code",
   "execution_count": null,
   "metadata": {
    "collapsed": true,
    "scrolled": true
   },
   "outputs": [],
   "source": [
    "und_b.columns"
   ]
  },
  {
   "cell_type": "code",
   "execution_count": null,
   "metadata": {
    "collapsed": true
   },
   "outputs": [],
   "source": [
    "und_z.columns"
   ]
  },
  {
   "cell_type": "code",
   "execution_count": null,
   "metadata": {
    "collapsed": true
   },
   "outputs": [],
   "source": [
    "und_mix = pd.merge(left=und_b, right=und_z, on='simulated_id', suffixes=('_b', '_z'), how='outer', indicator='row_from')"
   ]
  },
  {
   "cell_type": "code",
   "execution_count": null,
   "metadata": {
    "collapsed": true
   },
   "outputs": [],
   "source": [
    "und_mix.columns"
   ]
  },
  {
   "cell_type": "code",
   "execution_count": null,
   "metadata": {
    "collapsed": true
   },
   "outputs": [],
   "source": [
    "magnitudes_und = pd.DataFrame({'mag_both' : und_mix[und_mix.row_from=='both'].app_mag_b,\n",
    "                               'mag_onlyb': und_mix[und_mix.row_from=='left_only'].app_mag_b,\n",
    "                               'mag_onlyz': und_mix[und_mix.row_from=='right_only'].app_mag_z})"
   ]
  },
  {
   "cell_type": "code",
   "execution_count": null,
   "metadata": {
    "collapsed": true
   },
   "outputs": [],
   "source": [
    "magnitudes_und.plot.hist(stacked=True, bins=15, log=True)"
   ]
  },
  {
   "cell_type": "code",
   "execution_count": null,
   "metadata": {
    "collapsed": true
   },
   "outputs": [],
   "source": [
    "bins = np.arange(19, 23., 0.25)\n",
    "plt.hist(und_mix.app_mag_b[und_mix.row_from=='both'], bins=bins, log=True)\n",
    "plt.title('False Positives in common')\n",
    "plt.xlabel('mag')\n",
    "plt.xlim(19, 23.)\n",
    "plt.show()"
   ]
  },
  {
   "cell_type": "code",
   "execution_count": null,
   "metadata": {
    "collapsed": true,
    "scrolled": false
   },
   "outputs": [],
   "source": [
    "plt.figure(figsize=(14,5))\n",
    "plt.subplot(121)\n",
    "plt.xlabel\n",
    "plt.hexbin(und_z.x, und_z.y, cmap='viridis')\n",
    "plt.colorbar()\n",
    "plt.subplot(122)\n",
    "plt.hexbin(und_b.x, und_b.y, cmap='viridis')\n",
    "plt.colorbar()"
   ]
  },
  {
   "cell_type": "code",
   "execution_count": null,
   "metadata": {
    "collapsed": true,
    "scrolled": false
   },
   "outputs": [],
   "source": [
    "plt.figure(figsize=(8, 4))\n",
    "plt.subplot(121)\n",
    "plt.title('Reals S/N vs mag')\n",
    "plt.scatter(reals_b.mag, \n",
    "         np.log10(reals_b.FLUX_ISO/reals_b.FLUXERR_ISO),\n",
    "         s=np.log10(reals_b.FLUXERR_ISO), linewidths=0.001, \n",
    "        c='r', marker='.', alpha=0.3, label='Bramich')\n",
    "plt.scatter(reals_z.mag, \n",
    "         np.log10(reals_z.FLUX_ISO/reals_z.FLUXERR_ISO), \n",
    "         s=np.log10(reals_z.FLUXERR_ISO), linewidths=0.001,\n",
    "         c='b', marker='.', alpha=0.3, label='Zackay')\n",
    "plt.xlim(18,25)\n",
    "#plt.ylim(0, 220)\n",
    "plt.xlabel(r'$mag$')\n",
    "plt.ylabel(r'$log(S/N)$')\n",
    "plt.legend(loc='best')\n",
    "plt.subplot(122)\n",
    "plt.title('Bogus S/N vs mag')\n",
    "plt.scatter(bogus_b.mag,\n",
    "            np.log10(bogus_b.FLUX_ISO/bogus_b.FLUXERR_ISO),\n",
    "            s=np.log10(bogus_b.FLUXERR_ISO), linewidths=0.001,\n",
    "            c='r', marker='.', alpha=0.3, label='Bramich') \n",
    "plt.scatter(bogus_z.mag,\n",
    "            np.log10(bogus_z.FLUX_ISO/bogus_z.FLUXERR_ISO),\n",
    "            s=np.log10(bogus_z.FLUXERR_ISO), linewidths=0.001,\n",
    "            c='b', marker='.', alpha=0.3, label='Zackay')\n",
    "plt.xlim(18,25)\n",
    "#plt.ylim(0, 220)\n",
    "plt.xlabel(r'$mag$')\n",
    "plt.ylabel(r'$log(S/N)$')\n",
    "plt.legend(loc='best')\n",
    "plt.tight_layout()\n",
    "plt.savefig(os.path.join(plot_dir, 'signal_to_noise_vs_mag.png'), format='png', dpi=700)"
   ]
  },
  {
   "cell_type": "code",
   "execution_count": null,
   "metadata": {
    "collapsed": true,
    "scrolled": false
   },
   "outputs": [],
   "source": [
    "low_cstar_b = reals_b.CLASS_STAR < 0.005\n",
    "low_cstar_z = reals_z.CLASS_STAR < 0.005\n",
    "\n",
    "plt.figure(figsize=(8, 4))\n",
    "plt.subplot(121)\n",
    "plt.title('Reals S/N vs mag')\n",
    "plt.scatter(reals_b.mag[low_cstar_b], \n",
    "         np.log10(reals_b.FLUX_ISO/reals_b.FLUXERR_ISO)[low_cstar_b],\n",
    "         s=np.log10(reals_b.FLUXERR_ISO)[low_cstar_b], linewidths=0.001, \n",
    "        c='r', marker='.', alpha=0.3, label='Bramich')\n",
    "plt.scatter(reals_z.mag[low_cstar_z], \n",
    "         np.log10(reals_z.FLUX_ISO/reals_z.FLUXERR_ISO)[low_cstar_z], \n",
    "         s=np.log10(reals_z.FLUXERR_ISO)[low_cstar_z], linewidths=0.001,\n",
    "         c='b', marker='.', alpha=0.3, label='Zackay')\n",
    "plt.xlim(18,25)\n",
    "#plt.ylim(0, 220)\n",
    "plt.xlabel(r'$mag$')\n",
    "plt.ylabel(r'$log(S/N)$')\n",
    "plt.legend(loc='best')\n",
    "\n",
    "\n",
    "plt.subplot(122)\n",
    "plt.title('Bogus S/N vs mag')\n",
    "plt.scatter(bogus_b.mag,\n",
    "            np.log10(bogus_b.FLUX_ISO/bogus_b.FLUXERR_ISO),\n",
    "            s=np.log10(bogus_b.FLUXERR_ISO), linewidths=0.001,\n",
    "            c='r', marker='.', alpha=0.3, label='Bramich') \n",
    "plt.scatter(bogus_z.mag,\n",
    "            np.log10(bogus_z.FLUX_ISO/bogus_z.FLUXERR_ISO),\n",
    "            s=np.log10(bogus_z.FLUXERR_ISO), linewidths=0.001,\n",
    "            c='b', marker='.', alpha=0.3, label='Zackay')\n",
    "plt.xlim(18,25)\n",
    "#plt.ylim(0, 220)\n",
    "plt.xlabel(r'$mag$')\n",
    "plt.ylabel(r'$log(S/N)$')\n",
    "plt.legend(loc='best')\n",
    "plt.tight_layout()\n",
    "plt.savefig(os.path.join(plot_dir, 'signal_to_noise_vs_mag.png'), format='png', dpi=700)"
   ]
  },
  {
   "cell_type": "markdown",
   "metadata": {},
   "source": [
    "Need to calculate mean and dispersion of log10(S/N) on magnitude bins."
   ]
  },
  {
   "cell_type": "code",
   "execution_count": null,
   "metadata": {
    "collapsed": true
   },
   "outputs": [],
   "source": [
    "def binning(data, bins, step):\n",
    "    meanlogsn = []\n",
    "    stdvlogsn = []\n",
    "    \n",
    "    for abin in bins:\n",
    "        fdata = data[(data.mag < abin + step) * (data.mag >= abin)]\n",
    "        meanlogsn.append(np.mean(np.log10(fdata.FLUX_ISO/fdata.FLUXERR_ISO)))\n",
    "        stdvlogsn.append(np.std( np.log10(fdata.FLUX_ISO/fdata.FLUXERR_ISO)))\n",
    "    return meanlogsn, stdvlogsn"
   ]
  },
  {
   "cell_type": "code",
   "execution_count": null,
   "metadata": {
    "collapsed": true
   },
   "outputs": [],
   "source": [
    "step = 0.3\n",
    "bins = np.arange(19.6, 24.4, step)\n",
    "\n",
    "plt.figure(figsize=(10, 5))\n",
    "plt.subplot(121)\n",
    "plt.title('Reals S/N vs mag')\n",
    "means, stds = binning(reals_b, bins, step)\n",
    "plt.errorbar(x=bins + step/2., \n",
    "             y=means,\n",
    "             yerr=stds, \n",
    "             #linewidths=0.001, \n",
    "             c='r', marker='.', alpha=1, label='Bramich')\n",
    "\n",
    "means, stds = binning(reals_z, bins, step)\n",
    "plt.errorbar(x=bins + step/2., \n",
    "             y=means,\n",
    "             yerr=stds, \n",
    "             c='b', marker='.', alpha=1, label='Zackay')\n",
    "plt.xlim(19,25)\n",
    "#plt.ylim(0, 220)\n",
    "plt.xlabel(r'$mag$')\n",
    "plt.ylabel(r'$log(S/N)$')\n",
    "plt.legend(loc='best')\n",
    "\n",
    "plt.subplot(122)\n",
    "plt.title('Bogus S/N vs mag')\n",
    "means, stds = binning(bogus_b, bins, step)\n",
    "plt.errorbar(x=bins + step/2., \n",
    "             y=means,\n",
    "             yerr=stds, \n",
    "            #linewidths=0.001,\n",
    "            c='r', marker='.', alpha=1, label='Bramich') \n",
    "means, stds = binning(bogus_z, bins, step)\n",
    "plt.errorbar(x=bins + step/2., \n",
    "             y=means,\n",
    "             yerr=stds, \n",
    "             #linewidths=0.001,\n",
    "             c='b', marker='.', alpha=1, label='Zackay')\n",
    "plt.xlim(19,25)\n",
    "#plt.ylim(0, 220)\n",
    "plt.xlabel(r'$mag$')\n",
    "plt.ylabel(r'$log(S/N)$')\n",
    "plt.legend(loc='best')\n",
    "plt.tight_layout()\n",
    "plt.savefig(os.path.join(plot_dir, 'signal_to_noise_vs_mag_binned.png'), format='png', dpi=700)"
   ]
  },
  {
   "cell_type": "code",
   "execution_count": null,
   "metadata": {
    "collapsed": true
   },
   "outputs": [],
   "source": [
    "bins=np.arange(-2.5, 0., 0.1)\n",
    "plt.figure(figsize=(8, 4))\n",
    "plt.subplot(121)\n",
    "plt.title('Reals')\n",
    "plt.hist(np.log10(reals_b.MAGERR_ISO[reals_b.MAG_ISO < 30]), bins=bins,\n",
    "         log=True, alpha=0.5, color='red', label='Bramich')\n",
    "plt.hist(np.log10(reals_z.MAGERR_ISO[reals_z.MAG_ISO < 30]), bins=bins,\n",
    "         log=True, alpha=0.5, color='blue', label='Zackay')\n",
    "plt.xlabel(r'$Log(\\epsilon)$')\n",
    "plt.xlim(-2.5, 0.)\n",
    "plt.ylim(0, 10000)\n",
    "plt.legend(loc='best')\n",
    "\n",
    "plt.subplot(122)\n",
    "plt.title('Bogus')\n",
    "plt.hist(np.log10(bogus_b.MAGERR_ISO[bogus_b.MAG_ISO < 30]), bins=bins,\n",
    "         log=True, alpha=0.5, color='red', label='Bramich')\n",
    "plt.hist(np.log10(bogus_z.MAGERR_ISO[bogus_z.MAG_ISO < 30]), bins=bins,\n",
    "         log=True, alpha=0.5, color='blue', label='Zackay')\n",
    "plt.xlabel(r'$Log(\\epsilon)$')\n",
    "plt.xlim(-2.5, 0.)\n",
    "plt.ylim(0, 10000)\n",
    "plt.legend(loc='best')\n",
    "\n",
    "plt.tight_layout()\n",
    "plt.savefig(os.path.join(plot_dir, 'mag_errors.png'), format='png', dpi=700)"
   ]
  },
  {
   "cell_type": "code",
   "execution_count": null,
   "metadata": {
    "collapsed": true
   },
   "outputs": [],
   "source": [
    "bins = np.arange(0, 1., 0.1)\n",
    "plt.figure(figsize=(8, 4))\n",
    "plt.subplot(121)\n",
    "plt.title('Reals')\n",
    "plt.hist(reals_b.CLASS_STAR, log=True, bins=bins, alpha=0.5, color='red', label='Bramich')\n",
    "plt.hist(reals_z.CLASS_STAR, log=True, bins=bins, alpha=0.5, color='blue', label='Zackay')\n",
    "plt.xlabel(r'Class Star')\n",
    "plt.legend(loc='best')\n",
    "plt.subplot(122)\n",
    "plt.title('Bogus')\n",
    "plt.hist(bogus_b.CLASS_STAR, log=True, bins=bins, alpha=0.5, color='red', label='Bramich')\n",
    "plt.hist(bogus_z.CLASS_STAR, log=True, bins=bins, alpha=0.5, color='blue', label='Zackay')\n",
    "plt.xlabel(r'Class Star')\n",
    "plt.legend(loc='best')\n",
    "\n",
    "plt.savefig(os.path.join(plot_dir, 'class_star_hist.png'), format='png', dpi=700)"
   ]
  },
  {
   "cell_type": "code",
   "execution_count": null,
   "metadata": {
    "collapsed": true
   },
   "outputs": [],
   "source": [
    "bins = np.arange(0, 100, 10)\n",
    "\n",
    "plt.figure(figsize=(8, 4))\n",
    "plt.subplot(121)\n",
    "plt.title('Reals')\n",
    "plt.hist(reals_b.mu, bins=bins, log=True, alpha=0.5, color='red', label='Bramich')\n",
    "plt.hist(reals_z.mu, bins=bins, log=True, alpha=0.5, color='blue', label='Zackay')\n",
    "plt.xlabel(r'$\\mu$')\n",
    "plt.legend(loc='best')\n",
    "plt.subplot(122)\n",
    "plt.title('Bogus')\n",
    "plt.hist(bogus_b.mu, bins=bins, log=True, alpha=0.5, color='red', label='Bramich')\n",
    "plt.hist(bogus_z.mu, bins=bins, log=True, alpha=0.5, color='blue', label='Zackay')\n",
    "plt.xlabel(r'$\\mu$')\n",
    "plt.legend(loc='best')\n",
    "\n",
    "plt.savefig(os.path.join(plot_dir, 'mu_hist.png'), format='png', dpi=700)"
   ]
  },
  {
   "cell_type": "code",
   "execution_count": null,
   "metadata": {
    "collapsed": true
   },
   "outputs": [],
   "source": [
    "bins = np.arange(0, 28, 2)\n",
    "\n",
    "plt.figure(figsize=(8, 4))\n",
    "plt.subplot(121)\n",
    "plt.title('Reals')\n",
    "plt.hist(reals_b.FLAGS, bins=bins, log=True, alpha=0.5, color='red', label='Bramich')\n",
    "plt.hist(reals_z.FLAGS, bins=bins, log=True, alpha=0.5, color='blue', label='Zackay')\n",
    "plt.xlabel(r'FLAGS')\n",
    "plt.legend(loc='best')\n",
    "plt.subplot(122)\n",
    "plt.title('Bogus')\n",
    "plt.hist(bogus_b.FLAGS, bins=bins, log=True, alpha=0.5, color='red', label='Bramich')\n",
    "plt.hist(bogus_z.FLAGS, bins=bins, log=True, alpha=0.5, color='blue', label='Zackay')\n",
    "plt.xlabel(r'FLAGS')\n",
    "plt.legend(loc='best')\n",
    "\n",
    "plt.savefig(os.path.join(plot_dir, 'flags_hist.png'), format='png', dpi=700)"
   ]
  },
  {
   "cell_type": "code",
   "execution_count": null,
   "metadata": {
    "collapsed": true
   },
   "outputs": [],
   "source": [
    "plt.figure(figsize=(8, 4))\n",
    "plt.subplot(121)\n",
    "plt.title('Reals')\n",
    "plt.scatter(reals_b.ELONGATION, reals_b.ELLIPTICITY, s=reals_b.mu,\n",
    "            alpha=0.5, color='red', label='Bramich')\n",
    "plt.scatter(reals_z.ELONGATION, reals_z.ELLIPTICITY, s=reals_z.mu,\n",
    "            alpha=0.5, color='blue', label='Zackay')\n",
    "plt.xlabel(r'Elongation')\n",
    "plt.ylabel(r'Ellipticity')\n",
    "plt.legend(loc='best')\n",
    "# plt.xlim(0, 16)\n",
    "# plt.ylim(-0.1, 1.3)\n",
    "\n",
    "plt.subplot(122)\n",
    "plt.title('Bogus')\n",
    "plt.scatter(bogus_b.ELONGATION, bogus_b.ELLIPTICITY, s=bogus_b.mag**2,\n",
    "            alpha=0.3, color='red', label='Bramich')\n",
    "plt.scatter(bogus_z.ELONGATION, bogus_z.ELLIPTICITY, s=bogus_z.mag**2,\n",
    "            alpha=0.3, color='blue', label='Zackay')\n",
    "plt.xlabel(r'Elongation')\n",
    "plt.ylabel(r'Ellipticity')\n",
    "plt.legend(loc='best')\n",
    "\n",
    "plt.savefig(os.path.join(plot_dir, 'ellipticty_vs_elongation.png'), format='png', dpi=700)"
   ]
  },
  {
   "cell_type": "code",
   "execution_count": null,
   "metadata": {
    "collapsed": true
   },
   "outputs": [],
   "source": [
    "plt.figure(figsize=(8, 4))\n",
    "plt.subplot(121)\n",
    "plt.title('Reals')\n",
    "plt.plot(reals_b.CLASS_STAR, reals_b.mu, '.',\n",
    "            alpha=0.5, color='red', label='Bramich')\n",
    "plt.plot(reals_z.CLASS_STAR, reals_z.mu, '.', \n",
    "            alpha=0.5, color='blue', label='Zackay')\n",
    "\n",
    "# plt.xlim(0, 16)\n",
    "# plt.ylim(-0.1, 1.3)\n",
    "plt.loglog()\n",
    "plt.xlabel(r'CLASS_STAR')\n",
    "plt.ylabel(r'$\\mu$')\n",
    "plt.legend(loc='best')\n",
    "\n",
    "plt.subplot(122)\n",
    "plt.title('Bogus')\n",
    "plt.plot(bogus_b.CLASS_STAR, bogus_b.mu, '.',\n",
    "            alpha=0.5, color='red', label='Bramich')\n",
    "plt.plot(bogus_z.CLASS_STAR, bogus_z.mu, '.', \n",
    "            alpha=0.5, color='blue', label='Zackay')\n",
    "plt.ylim(1, 100.)\n",
    "plt.loglog()\n",
    "plt.xlabel(r'CLASS_STAR')\n",
    "plt.ylabel(r'$\\mu$')\n",
    "plt.legend(loc='best')\n"
   ]
  },
  {
   "cell_type": "markdown",
   "metadata": {},
   "source": [
    "## Simulation parameters\n",
    "\n",
    "We need data on simulation for every object, specially undetected (there are a lot of these)"
   ]
  },
  {
   "cell_type": "code",
   "execution_count": null,
   "metadata": {
    "collapsed": true
   },
   "outputs": [],
   "source": [
    "sim_pars = pd.read_sql_query(\"\"\"SELECT * FROM Images\"\"\", engine)"
   ]
  },
  {
   "cell_type": "raw",
   "metadata": {},
   "source": [
    "sim_pars = sim_pars.merge(simulated, left_on='id', right_on='image_id', how='right', suffixes=('_img', '_src'))"
   ]
  },
  {
   "cell_type": "markdown",
   "metadata": {},
   "source": [
    "Now we will merge our simulation parameters on undetected objects:"
   ]
  },
  {
   "cell_type": "code",
   "execution_count": null,
   "metadata": {
    "collapsed": true
   },
   "outputs": [],
   "source": [
    "und_b = pd.merge(left=und_b, right=sim_pars, left_on='image_id', right_on='id', how='left')\n",
    "und_z = pd.merge(left=und_z, right=sim_pars, left_on='image_id', right_on='id', how='left')"
   ]
  },
  {
   "cell_type": "code",
   "execution_count": null,
   "metadata": {
    "collapsed": true
   },
   "outputs": [],
   "source": [
    "print ' Columns of sim_pars:\\n', sim_pars.columns\n",
    "print '\\n Columns of und_b:\\n', und_b.columns\n",
    "print '\\n Columns of und_z:\\n', und_z.columns\n",
    "print '\\n Columns of simulated:\\n', simulated.columns"
   ]
  },
  {
   "cell_type": "code",
   "execution_count": null,
   "metadata": {
    "collapsed": true,
    "scrolled": false
   },
   "outputs": [],
   "source": [
    "plt.figure(figsize=(9, 6))\n",
    "plt.subplot(2, 3, 1)\n",
    "plt.hist(und_z['refseeing_fwhm'], cumulative=False, histtype='bar', alpha=0.5 , color='blue', normed=True)\n",
    "plt.hist(und_b['refseeing_fwhm'], cumulative=False, histtype='bar', alpha=0.5, color='red', normed=True)\n",
    "plt.xlabel('seeing fwhm')\n",
    "plt.title('REF Seeing for undetected')\n",
    "\n",
    "plt.subplot(2, 3, 2)\n",
    "plt.hist(und_z['refstarcount_slope'], cumulative=False, histtype='bar', alpha=0.5 , color='blue', normed=True)\n",
    "plt.hist(und_b['refstarcount_slope'], cumulative=False, histtype='bar', alpha=0.5, color='red', normed=True)\n",
    "plt.xlabel('slope')\n",
    "plt.title('REF Starcount slope for undetected')\n",
    "\n",
    "plt.subplot(2, 3, 3)\n",
    "plt.hist(np.log10(und_z['refstarcount_zp']), cumulative=False, histtype='bar', \n",
    "         alpha=0.5 , color='blue', normed=True)\n",
    "plt.hist(np.log10(und_b['refstarcount_zp']), cumulative=False, histtype='bar', \n",
    "         alpha=0.5, color='red', normed=True)\n",
    "plt.xlabel('zp')\n",
    "plt.title('REF Starcount ZP for undetected')\n",
    "\n",
    "plt.subplot(2, 3, 4)\n",
    "plt.hist(und_z['r_scales'], cumulative=False, histtype='bar', alpha=0.5, color='blue', log=True, normed=True)\n",
    "plt.hist(und_b['r_scales'], cumulative=False, histtype='bar', alpha=0.5, color='red', log=True, normed=True)\n",
    "plt.xlabel(r'$r$')\n",
    "plt.title('Distance to host')\n",
    "\n",
    "plt.subplot(2, 3, 5)\n",
    "plt.hist(und_z['gx_mag'], cumulative=False, histtype='bar', alpha=0.5, color='blue', log=True, normed=True)\n",
    "plt.hist(und_b['gx_mag'], cumulative=False, histtype='bar', alpha=0.5, color='red', log=True, normed=True)\n",
    "plt.xlabel(r'gx_mag')\n",
    "plt.title('Host Galaxy magnitud')\n",
    "\n",
    "\n",
    "plt.tight_layout()\n",
    "plt.show()"
   ]
  },
  {
   "cell_type": "code",
   "execution_count": null,
   "metadata": {
    "collapsed": true
   },
   "outputs": [],
   "source": [
    "reals_b = pd.merge(left=reals_b, right=sim_pars, left_on='image_id', right_on='id', how='left')\n",
    "reals_z = pd.merge(left=reals_z, right=sim_pars, left_on='image_id', right_on='id', how='left')"
   ]
  },
  {
   "cell_type": "code",
   "execution_count": null,
   "metadata": {
    "collapsed": true
   },
   "outputs": [],
   "source": [
    "plt.figure(figsize=(9, 6))\n",
    "plt.subplot(2, 3, 1)\n",
    "plt.hist(reals_z['refseeing_fwhm'], cumulative=False, histtype='bar',\n",
    "         alpha=0.5 , color='blue', normed=True)\n",
    "plt.hist(reals_b['refseeing_fwhm'], cumulative=False, histtype='bar',\n",
    "         alpha=0.5, color='red', normed=True)\n",
    "plt.xlabel('seeing fwhm')\n",
    "plt.title('REF Seeing for Reals')\n",
    "\n",
    "plt.subplot(2, 3, 2)\n",
    "plt.hist(reals_z['refstarcount_slope'], cumulative=False, histtype='bar',\n",
    "         alpha=0.5 , color='blue', normed=True)\n",
    "plt.hist(reals_b['refstarcount_slope'], cumulative=False, histtype='bar',\n",
    "         alpha=0.5, color='red', normed=True)\n",
    "plt.xlabel('slope')\n",
    "plt.title('REF Starcount slope for Reals')\n",
    "\n",
    "plt.subplot(2, 3, 3)\n",
    "plt.hist(np.log10(reals_z['refstarcount_zp']), cumulative=False, histtype='bar', \n",
    "         alpha=0.5 , color='blue', normed=True)\n",
    "plt.hist(np.log10(reals_b['refstarcount_zp']), cumulative=False, histtype='bar', \n",
    "         alpha=0.5, color='red', normed=True)\n",
    "plt.xlabel('zp')\n",
    "plt.title('REF Starcount ZP for Reals')\n",
    "\n",
    "plt.subplot(2, 3, 4)\n",
    "plt.hist(reals_z['r_scales'], cumulative=False, histtype='bar',\n",
    "         alpha=0.5, color='blue', log=True, normed=True)\n",
    "plt.hist(reals_b['r_scales'], cumulative=False, histtype='bar',\n",
    "         alpha=0.5, color='red', log=True, normed=True)\n",
    "plt.xlabel(r'$r$')\n",
    "plt.title('Distance to host for Reals')\n",
    "\n",
    "plt.subplot(2, 3, 5)\n",
    "plt.hist(reals_z['gx_mag'], cumulative=False, histtype='bar',\n",
    "         alpha=0.5, color='blue', log=True, normed=True)\n",
    "plt.hist(reals_b['gx_mag'], cumulative=False, histtype='bar',\n",
    "         alpha=0.5, color='red', log=True, normed=True)\n",
    "plt.xlabel(r'gx_mag')\n",
    "plt.title('Host Galaxy magnitud for Reals')\n",
    "\n",
    "\n",
    "plt.tight_layout()\n",
    "plt.show()"
   ]
  },
  {
   "cell_type": "code",
   "execution_count": null,
   "metadata": {
    "collapsed": true
   },
   "outputs": [],
   "source": [
    "print bogus_b.columns\n",
    "print bogus_z.columns\n",
    "print sim_pars.columns"
   ]
  },
  {
   "cell_type": "markdown",
   "metadata": {},
   "source": [
    "## Checking on the outliers"
   ]
  },
  {
   "cell_type": "code",
   "execution_count": null,
   "metadata": {
    "collapsed": true
   },
   "outputs": [],
   "source": [
    "from astropy.nddata.utils import extract_array\n",
    "from astropy.io import fits\n",
    "\n",
    "\n",
    "def get_patch_bramich(x, y, image_id):\n",
    "    \"\"\"Gets data from a row of a table, from a bramich subtracted source, and uses\n",
    "    its coordinates to extract a patch from the image.\n",
    "    \"\"\"\n",
    "    size = (14, 14)\n",
    "    \n",
    "    path = os.path.join('/home/bruno/Data/RBpipeline/images', \n",
    "                        'img'+str(image_id).zfill(5))\n",
    "    filepath = os.path.join(path, 'diff_ois.fits')\n",
    "    \n",
    "    pixdata = fits.getdata(filepath)\n",
    "    \n",
    "    patch = extract_array(pixdata, size, (x, y))\n",
    "    \n",
    "    return patch\n",
    "    \n",
    "    \n",
    "def get_patch_zackay(x, y, image_id):\n",
    "    \"\"\"Gets data from a row of a table, from a bramich subtracted source, and uses\n",
    "    its coordinates to extract a patch from the image.\n",
    "    \"\"\"\n",
    "    size = (14, 14)\n",
    "    \n",
    "    path = os.path.join('/home/bruno/Data/RBpipeline/images', \n",
    "                        'img'+str(image_id).zfill(5))\n",
    "    filepath = os.path.join(path, 'diff.fits')\n",
    "    \n",
    "    pixdata = fits.getdata(filepath)\n",
    "    \n",
    "    patch = extract_array(pixdata, size, (x, y))\n",
    "    \n",
    "    return patch\n",
    "    "
   ]
  },
  {
   "cell_type": "code",
   "execution_count": null,
   "metadata": {
    "collapsed": true
   },
   "outputs": [],
   "source": [
    "outliers_b = bogus_b[bogus_b.CLASS_STAR > .97]"
   ]
  },
  {
   "cell_type": "code",
   "execution_count": null,
   "metadata": {
    "collapsed": true
   },
   "outputs": [],
   "source": [
    "outliers_b"
   ]
  },
  {
   "cell_type": "code",
   "execution_count": null,
   "metadata": {
    "collapsed": true
   },
   "outputs": [],
   "source": [
    "plt.figure(figsize=( 6, 2*len(outliers_b)))\n",
    "for i in range(len(outliers_b)):\n",
    "    patch = get_patch_bramich(outliers_b[i:i+1]['Y_IMAGE'], \n",
    "                              outliers_b[i:i+1]['X_IMAGE'], \n",
    "                              int(outliers_b[i:i+1]['image_id']))\n",
    "    plt.subplot(len(outliers_b), 1 , i+1)\n",
    "    plt.grid()\n",
    "    plt.imshow(patch, cmap='viridis', interpolation='none')"
   ]
  },
  {
   "cell_type": "code",
   "execution_count": null,
   "metadata": {
    "collapsed": true
   },
   "outputs": [],
   "source": [
    "outliers_z = bogus_z[bogus_z.ELONGATION > 8]"
   ]
  },
  {
   "cell_type": "code",
   "execution_count": null,
   "metadata": {
    "collapsed": true
   },
   "outputs": [],
   "source": [
    "outliers_z"
   ]
  },
  {
   "cell_type": "code",
   "execution_count": null,
   "metadata": {
    "collapsed": true
   },
   "outputs": [],
   "source": [
    "plt.figure(figsize=(6*len(outliers_z), 12))\n",
    "for i in range(len(outliers_z)):\n",
    "    patch = get_patch_zackay(outliers_z[i:i+1]['Y_IMAGE'], \n",
    "                              outliers_z[i:i+1]['X_IMAGE'], \n",
    "                              int(outliers_z[i:i+1]['image_id']))\n",
    "    plt.subplot(1, len(outliers_z), i+1)\n",
    "    plt.grid()\n",
    "    plt.imshow(patch, cmap='viridis', interpolation='none')"
   ]
  },
  {
   "cell_type": "code",
   "execution_count": null,
   "metadata": {
    "collapsed": true
   },
   "outputs": [],
   "source": []
  },
  {
   "cell_type": "code",
   "execution_count": null,
   "metadata": {
    "collapsed": true
   },
   "outputs": [],
   "source": []
  }
 ],
 "metadata": {
  "kernelspec": {
   "display_name": "Python 3",
   "language": "python",
   "name": "python3"
  },
  "language_info": {
   "codemirror_mode": {
    "name": "ipython",
    "version": 3
   },
   "file_extension": ".py",
   "mimetype": "text/x-python",
   "name": "python",
   "nbconvert_exporter": "python",
   "pygments_lexer": "ipython3",
   "version": "3.6.3"
  }
 },
 "nbformat": 4,
 "nbformat_minor": 1
}
