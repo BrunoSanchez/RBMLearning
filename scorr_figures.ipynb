{
 "cells": [
  {
   "cell_type": "markdown",
   "metadata": {},
   "source": [
    "## $S_{corr} > 3.5 \\sigma$"
   ]
  },
  {
   "cell_type": "markdown",
   "metadata": {},
   "source": [
    "Como va la franja de reals y bogus?"
   ]
  },
  {
   "cell_type": "code",
   "execution_count": 1,
   "metadata": {
    "collapsed": true
   },
   "outputs": [],
   "source": [
    "import numpy as np\n",
    "%matplotlib inline\n",
    "import matplotlib.pyplot as plt\n",
    "import seaborn as sns"
   ]
  },
  {
   "cell_type": "code",
   "execution_count": 2,
   "metadata": {
    "collapsed": true
   },
   "outputs": [],
   "source": [
    "from sqlalchemy import create_engine\n",
    "import pandas as pd"
   ]
  },
  {
   "cell_type": "code",
   "execution_count": 3,
   "metadata": {
    "collapsed": true
   },
   "outputs": [],
   "source": [
    "sns.set_context(font_scale=16)\n",
    "plt.rcParams[\"patch.force_edgecolor\"] = True\n",
    "plt.rcParams['text.usetex'] = True"
   ]
  },
  {
   "cell_type": "code",
   "execution_count": 4,
   "metadata": {
    "collapsed": true
   },
   "outputs": [],
   "source": [
    "engine = create_engine('sqlite:///../RBpipeline/newrbogus22-dev.db')"
   ]
  },
  {
   "cell_type": "code",
   "execution_count": 5,
   "metadata": {
    "collapsed": true
   },
   "outputs": [],
   "source": [
    "simulated = pd.read_sql_query(\"\"\"SELECT * FROM Simulated\"\"\", engine)"
   ]
  },
  {
   "cell_type": "code",
   "execution_count": 6,
   "metadata": {
    "collapsed": true
   },
   "outputs": [],
   "source": [
    "dt_scr = pd.merge(pd.read_sql_table('SCorrDetected', engine),\n",
    "                  pd.read_sql_query(\"\"\"SELECT \n",
    "                                        SCorrDetected.id,\n",
    "                                        Simulated.app_mag as sim_mag,\n",
    "                                        Simulated.id as sim_id \n",
    "                                    FROM SCorrDetected\n",
    "                                        LEFT JOIN SCorrReals\n",
    "                                            ON SCorrDetected.id==SCorrReals.detected_id\n",
    "                                        LEFT JOIN Simulated\n",
    "                                            ON Simulated.id==SCorrReals.simulated_id\"\"\", engine),\n",
    "                                      on='id', suffixes=('',''))"
   ]
  },
  {
   "cell_type": "code",
   "execution_count": 7,
   "metadata": {},
   "outputs": [
    {
     "data": {
      "text/html": [
       "<div>\n",
       "<style>\n",
       "    .dataframe thead tr:only-child th {\n",
       "        text-align: right;\n",
       "    }\n",
       "\n",
       "    .dataframe thead th {\n",
       "        text-align: left;\n",
       "    }\n",
       "\n",
       "    .dataframe tbody tr th {\n",
       "        vertical-align: top;\n",
       "    }\n",
       "</style>\n",
       "<table border=\"1\" class=\"dataframe\">\n",
       "  <thead>\n",
       "    <tr style=\"text-align: right;\">\n",
       "      <th></th>\n",
       "      <th>id</th>\n",
       "      <th>X_IMAGE</th>\n",
       "      <th>Y_IMAGE</th>\n",
       "      <th>SIGNIFICANCE</th>\n",
       "      <th>image_id</th>\n",
       "      <th>sim_mag</th>\n",
       "      <th>sim_id</th>\n",
       "    </tr>\n",
       "  </thead>\n",
       "  <tbody>\n",
       "    <tr>\n",
       "      <th>count</th>\n",
       "      <td>101206.000000</td>\n",
       "      <td>101206.000000</td>\n",
       "      <td>101206.000000</td>\n",
       "      <td>101206.000000</td>\n",
       "      <td>101206.000000</td>\n",
       "      <td>35923.000000</td>\n",
       "      <td>35923.000000</td>\n",
       "    </tr>\n",
       "    <tr>\n",
       "      <th>mean</th>\n",
       "      <td>50603.500000</td>\n",
       "      <td>514.087749</td>\n",
       "      <td>509.122185</td>\n",
       "      <td>29.946300</td>\n",
       "      <td>625.539296</td>\n",
       "      <td>21.351424</td>\n",
       "      <td>48375.645408</td>\n",
       "    </tr>\n",
       "    <tr>\n",
       "      <th>std</th>\n",
       "      <td>29215.800009</td>\n",
       "      <td>294.672215</td>\n",
       "      <td>297.221797</td>\n",
       "      <td>121.442351</td>\n",
       "      <td>360.051371</td>\n",
       "      <td>1.403484</td>\n",
       "      <td>27909.844536</td>\n",
       "    </tr>\n",
       "    <tr>\n",
       "      <th>min</th>\n",
       "      <td>1.000000</td>\n",
       "      <td>0.000000</td>\n",
       "      <td>0.000000</td>\n",
       "      <td>-367.876366</td>\n",
       "      <td>1.000000</td>\n",
       "      <td>11.736346</td>\n",
       "      <td>2.000000</td>\n",
       "    </tr>\n",
       "    <tr>\n",
       "      <th>25%</th>\n",
       "      <td>25302.250000</td>\n",
       "      <td>260.164997</td>\n",
       "      <td>249.499134</td>\n",
       "      <td>3.736255</td>\n",
       "      <td>313.250000</td>\n",
       "      <td>20.648900</td>\n",
       "      <td>24438.000000</td>\n",
       "    </tr>\n",
       "    <tr>\n",
       "      <th>50%</th>\n",
       "      <td>50603.500000</td>\n",
       "      <td>516.388405</td>\n",
       "      <td>509.466395</td>\n",
       "      <td>5.803266</td>\n",
       "      <td>627.000000</td>\n",
       "      <td>21.600599</td>\n",
       "      <td>48458.000000</td>\n",
       "    </tr>\n",
       "    <tr>\n",
       "      <th>75%</th>\n",
       "      <td>75904.750000</td>\n",
       "      <td>769.418978</td>\n",
       "      <td>767.012477</td>\n",
       "      <td>15.579897</td>\n",
       "      <td>937.000000</td>\n",
       "      <td>22.352585</td>\n",
       "      <td>72169.500000</td>\n",
       "    </tr>\n",
       "    <tr>\n",
       "      <th>max</th>\n",
       "      <td>101206.000000</td>\n",
       "      <td>1023.000000</td>\n",
       "      <td>1023.000000</td>\n",
       "      <td>2758.006410</td>\n",
       "      <td>1249.000000</td>\n",
       "      <td>26.026666</td>\n",
       "      <td>96792.000000</td>\n",
       "    </tr>\n",
       "  </tbody>\n",
       "</table>\n",
       "</div>"
      ],
      "text/plain": [
       "                  id        X_IMAGE        Y_IMAGE   SIGNIFICANCE  \\\n",
       "count  101206.000000  101206.000000  101206.000000  101206.000000   \n",
       "mean    50603.500000     514.087749     509.122185      29.946300   \n",
       "std     29215.800009     294.672215     297.221797     121.442351   \n",
       "min         1.000000       0.000000       0.000000    -367.876366   \n",
       "25%     25302.250000     260.164997     249.499134       3.736255   \n",
       "50%     50603.500000     516.388405     509.466395       5.803266   \n",
       "75%     75904.750000     769.418978     767.012477      15.579897   \n",
       "max    101206.000000    1023.000000    1023.000000    2758.006410   \n",
       "\n",
       "            image_id       sim_mag        sim_id  \n",
       "count  101206.000000  35923.000000  35923.000000  \n",
       "mean      625.539296     21.351424  48375.645408  \n",
       "std       360.051371      1.403484  27909.844536  \n",
       "min         1.000000     11.736346      2.000000  \n",
       "25%       313.250000     20.648900  24438.000000  \n",
       "50%       627.000000     21.600599  48458.000000  \n",
       "75%       937.000000     22.352585  72169.500000  \n",
       "max      1249.000000     26.026666  96792.000000  "
      ]
     },
     "execution_count": 7,
     "metadata": {},
     "output_type": "execute_result"
    }
   ],
   "source": [
    "dt_scr.describe()"
   ]
  },
  {
   "cell_type": "code",
   "execution_count": 8,
   "metadata": {
    "collapsed": true
   },
   "outputs": [],
   "source": [
    "reals = dt_scr[dt_scr.IS_REAL==True]\n",
    "bogus = dt_scr[dt_scr.IS_REAL==False]"
   ]
  },
  {
   "cell_type": "code",
   "execution_count": 9,
   "metadata": {},
   "outputs": [
    {
     "data": {
      "text/html": [
       "<div>\n",
       "<style>\n",
       "    .dataframe thead tr:only-child th {\n",
       "        text-align: right;\n",
       "    }\n",
       "\n",
       "    .dataframe thead th {\n",
       "        text-align: left;\n",
       "    }\n",
       "\n",
       "    .dataframe tbody tr th {\n",
       "        vertical-align: top;\n",
       "    }\n",
       "</style>\n",
       "<table border=\"1\" class=\"dataframe\">\n",
       "  <thead>\n",
       "    <tr style=\"text-align: right;\">\n",
       "      <th></th>\n",
       "      <th>id</th>\n",
       "      <th>X_IMAGE</th>\n",
       "      <th>Y_IMAGE</th>\n",
       "      <th>SIGNIFICANCE</th>\n",
       "      <th>image_id</th>\n",
       "      <th>sim_mag</th>\n",
       "      <th>sim_id</th>\n",
       "    </tr>\n",
       "  </thead>\n",
       "  <tbody>\n",
       "    <tr>\n",
       "      <th>count</th>\n",
       "      <td>35923.000000</td>\n",
       "      <td>35923.000000</td>\n",
       "      <td>35923.000000</td>\n",
       "      <td>35923.000000</td>\n",
       "      <td>35923.000000</td>\n",
       "      <td>35923.000000</td>\n",
       "      <td>35923.000000</td>\n",
       "    </tr>\n",
       "    <tr>\n",
       "      <th>mean</th>\n",
       "      <td>50280.858614</td>\n",
       "      <td>512.823275</td>\n",
       "      <td>510.760260</td>\n",
       "      <td>55.651075</td>\n",
       "      <td>621.551262</td>\n",
       "      <td>21.351424</td>\n",
       "      <td>48375.645408</td>\n",
       "    </tr>\n",
       "    <tr>\n",
       "      <th>std</th>\n",
       "      <td>29170.414234</td>\n",
       "      <td>289.788162</td>\n",
       "      <td>290.616859</td>\n",
       "      <td>178.981400</td>\n",
       "      <td>359.501102</td>\n",
       "      <td>1.403484</td>\n",
       "      <td>27909.844536</td>\n",
       "    </tr>\n",
       "    <tr>\n",
       "      <th>min</th>\n",
       "      <td>1.000000</td>\n",
       "      <td>8.439991</td>\n",
       "      <td>8.230530</td>\n",
       "      <td>-28.781626</td>\n",
       "      <td>1.000000</td>\n",
       "      <td>11.736346</td>\n",
       "      <td>2.000000</td>\n",
       "    </tr>\n",
       "    <tr>\n",
       "      <th>25%</th>\n",
       "      <td>25269.000000</td>\n",
       "      <td>261.345121</td>\n",
       "      <td>259.455380</td>\n",
       "      <td>6.817209</td>\n",
       "      <td>313.000000</td>\n",
       "      <td>20.648900</td>\n",
       "      <td>24438.000000</td>\n",
       "    </tr>\n",
       "    <tr>\n",
       "      <th>50%</th>\n",
       "      <td>50202.000000</td>\n",
       "      <td>515.760424</td>\n",
       "      <td>510.253538</td>\n",
       "      <td>13.479066</td>\n",
       "      <td>622.000000</td>\n",
       "      <td>21.600599</td>\n",
       "      <td>48458.000000</td>\n",
       "    </tr>\n",
       "    <tr>\n",
       "      <th>75%</th>\n",
       "      <td>75063.000000</td>\n",
       "      <td>765.454688</td>\n",
       "      <td>764.196325</td>\n",
       "      <td>32.454521</td>\n",
       "      <td>927.000000</td>\n",
       "      <td>22.352585</td>\n",
       "      <td>72169.500000</td>\n",
       "    </tr>\n",
       "    <tr>\n",
       "      <th>max</th>\n",
       "      <td>101205.000000</td>\n",
       "      <td>1013.962152</td>\n",
       "      <td>1013.942984</td>\n",
       "      <td>2758.006410</td>\n",
       "      <td>1249.000000</td>\n",
       "      <td>26.026666</td>\n",
       "      <td>96792.000000</td>\n",
       "    </tr>\n",
       "  </tbody>\n",
       "</table>\n",
       "</div>"
      ],
      "text/plain": [
       "                  id       X_IMAGE       Y_IMAGE  SIGNIFICANCE      image_id  \\\n",
       "count   35923.000000  35923.000000  35923.000000  35923.000000  35923.000000   \n",
       "mean    50280.858614    512.823275    510.760260     55.651075    621.551262   \n",
       "std     29170.414234    289.788162    290.616859    178.981400    359.501102   \n",
       "min         1.000000      8.439991      8.230530    -28.781626      1.000000   \n",
       "25%     25269.000000    261.345121    259.455380      6.817209    313.000000   \n",
       "50%     50202.000000    515.760424    510.253538     13.479066    622.000000   \n",
       "75%     75063.000000    765.454688    764.196325     32.454521    927.000000   \n",
       "max    101205.000000   1013.962152   1013.942984   2758.006410   1249.000000   \n",
       "\n",
       "            sim_mag        sim_id  \n",
       "count  35923.000000  35923.000000  \n",
       "mean      21.351424  48375.645408  \n",
       "std        1.403484  27909.844536  \n",
       "min       11.736346      2.000000  \n",
       "25%       20.648900  24438.000000  \n",
       "50%       21.600599  48458.000000  \n",
       "75%       22.352585  72169.500000  \n",
       "max       26.026666  96792.000000  "
      ]
     },
     "execution_count": 9,
     "metadata": {},
     "output_type": "execute_result"
    }
   ],
   "source": [
    "reals.describe()"
   ]
  },
  {
   "cell_type": "code",
   "execution_count": 10,
   "metadata": {},
   "outputs": [
    {
     "data": {
      "text/html": [
       "<div>\n",
       "<style>\n",
       "    .dataframe thead tr:only-child th {\n",
       "        text-align: right;\n",
       "    }\n",
       "\n",
       "    .dataframe thead th {\n",
       "        text-align: left;\n",
       "    }\n",
       "\n",
       "    .dataframe tbody tr th {\n",
       "        vertical-align: top;\n",
       "    }\n",
       "</style>\n",
       "<table border=\"1\" class=\"dataframe\">\n",
       "  <thead>\n",
       "    <tr style=\"text-align: right;\">\n",
       "      <th></th>\n",
       "      <th>id</th>\n",
       "      <th>X_IMAGE</th>\n",
       "      <th>Y_IMAGE</th>\n",
       "      <th>SIGNIFICANCE</th>\n",
       "      <th>image_id</th>\n",
       "      <th>sim_mag</th>\n",
       "      <th>sim_id</th>\n",
       "    </tr>\n",
       "  </thead>\n",
       "  <tbody>\n",
       "    <tr>\n",
       "      <th>count</th>\n",
       "      <td>65283.000000</td>\n",
       "      <td>65283.000000</td>\n",
       "      <td>65283.000000</td>\n",
       "      <td>65283.000000</td>\n",
       "      <td>65283.000000</td>\n",
       "      <td>0.0</td>\n",
       "      <td>0.0</td>\n",
       "    </tr>\n",
       "    <tr>\n",
       "      <th>mean</th>\n",
       "      <td>50781.038509</td>\n",
       "      <td>514.783546</td>\n",
       "      <td>508.220809</td>\n",
       "      <td>15.801842</td>\n",
       "      <td>627.733774</td>\n",
       "      <td>NaN</td>\n",
       "      <td>NaN</td>\n",
       "    </tr>\n",
       "    <tr>\n",
       "      <th>std</th>\n",
       "      <td>29239.448962</td>\n",
       "      <td>297.325435</td>\n",
       "      <td>300.792813</td>\n",
       "      <td>68.359256</td>\n",
       "      <td>360.337733</td>\n",
       "      <td>NaN</td>\n",
       "      <td>NaN</td>\n",
       "    </tr>\n",
       "    <tr>\n",
       "      <th>min</th>\n",
       "      <td>4.000000</td>\n",
       "      <td>0.000000</td>\n",
       "      <td>0.000000</td>\n",
       "      <td>-367.876366</td>\n",
       "      <td>1.000000</td>\n",
       "      <td>NaN</td>\n",
       "      <td>NaN</td>\n",
       "    </tr>\n",
       "    <tr>\n",
       "      <th>25%</th>\n",
       "      <td>25312.500000</td>\n",
       "      <td>259.442728</td>\n",
       "      <td>244.449506</td>\n",
       "      <td>3.604740</td>\n",
       "      <td>314.000000</td>\n",
       "      <td>NaN</td>\n",
       "      <td>NaN</td>\n",
       "    </tr>\n",
       "    <tr>\n",
       "      <th>50%</th>\n",
       "      <td>50850.000000</td>\n",
       "      <td>516.602057</td>\n",
       "      <td>509.007578</td>\n",
       "      <td>4.019147</td>\n",
       "      <td>630.000000</td>\n",
       "      <td>NaN</td>\n",
       "      <td>NaN</td>\n",
       "    </tr>\n",
       "    <tr>\n",
       "      <th>75%</th>\n",
       "      <td>76356.500000</td>\n",
       "      <td>771.832957</td>\n",
       "      <td>768.123748</td>\n",
       "      <td>8.187816</td>\n",
       "      <td>943.000000</td>\n",
       "      <td>NaN</td>\n",
       "      <td>NaN</td>\n",
       "    </tr>\n",
       "    <tr>\n",
       "      <th>max</th>\n",
       "      <td>101206.000000</td>\n",
       "      <td>1023.000000</td>\n",
       "      <td>1023.000000</td>\n",
       "      <td>2461.172646</td>\n",
       "      <td>1249.000000</td>\n",
       "      <td>NaN</td>\n",
       "      <td>NaN</td>\n",
       "    </tr>\n",
       "  </tbody>\n",
       "</table>\n",
       "</div>"
      ],
      "text/plain": [
       "                  id       X_IMAGE       Y_IMAGE  SIGNIFICANCE      image_id  \\\n",
       "count   65283.000000  65283.000000  65283.000000  65283.000000  65283.000000   \n",
       "mean    50781.038509    514.783546    508.220809     15.801842    627.733774   \n",
       "std     29239.448962    297.325435    300.792813     68.359256    360.337733   \n",
       "min         4.000000      0.000000      0.000000   -367.876366      1.000000   \n",
       "25%     25312.500000    259.442728    244.449506      3.604740    314.000000   \n",
       "50%     50850.000000    516.602057    509.007578      4.019147    630.000000   \n",
       "75%     76356.500000    771.832957    768.123748      8.187816    943.000000   \n",
       "max    101206.000000   1023.000000   1023.000000   2461.172646   1249.000000   \n",
       "\n",
       "       sim_mag  sim_id  \n",
       "count      0.0     0.0  \n",
       "mean       NaN     NaN  \n",
       "std        NaN     NaN  \n",
       "min        NaN     NaN  \n",
       "25%        NaN     NaN  \n",
       "50%        NaN     NaN  \n",
       "75%        NaN     NaN  \n",
       "max        NaN     NaN  "
      ]
     },
     "execution_count": 10,
     "metadata": {},
     "output_type": "execute_result"
    }
   ],
   "source": [
    "bogus.describe()"
   ]
  },
  {
   "cell_type": "code",
   "execution_count": 11,
   "metadata": {},
   "outputs": [
    {
     "name": "stdout",
     "output_type": "stream",
     "text": [
      "2\n",
      "148\n"
     ]
    }
   ],
   "source": [
    "print sum(reals.SIGNIFICANCE<=0.)\n",
    "print sum(bogus.SIGNIFICANCE<=0.)"
   ]
  },
  {
   "cell_type": "code",
   "execution_count": 12,
   "metadata": {
    "scrolled": false
   },
   "outputs": [
    {
     "data": {
      "image/png": "[encoded data removed]",
      "text/plain": [
       "<matplotlib.figure.Figure at 0x7f279719a610>"
      ]
     },
     "metadata": {},
     "output_type": "display_data"
    }
   ],
   "source": [
    "bins=np.arange(0, 4, .1)\n",
    "\n",
    "plt.hist(np.log10(bogus.SIGNIFICANCE[bogus.SIGNIFICANCE>0.]), \n",
    "         log=True, alpha=1, label='Bogus', bins=bins, histtype='step', lw=2,\n",
    "         linestyle='-') #, cumulative=True, normed=True)\n",
    "\n",
    "plt.hist(np.log10(reals.SIGNIFICANCE[reals.SIGNIFICANCE>0.]), \n",
    "         log=True, alpha=1, label='Reals', bins=bins, histtype='step', lw=2,\n",
    "         linestyle='--') #, cumulative=True, normed=True)\n",
    "\n",
    "plt.vlines(x=np.log10(3.5), ymax=10e5, ymin=0., label=r'$3.5\\sigma$', alpha=0.3)\n",
    "plt.vlines(x=np.log10(5), linestyle=':', ymax=10e5, ymin=0., label=r'$5\\sigma$', alpha=0.5)\n",
    "\n",
    "plt.xlabel(r'$log_{10}(\\alpha)$', fontsize=16)\n",
    "plt.ylabel('N', fontsize=16)\n",
    "\n",
    "plt.tick_params(labelsize=16)\n",
    "plt.legend(loc='best', fontsize=16)\n",
    "plt.savefig('significances.png', dpi=400)"
   ]
  },
  {
   "cell_type": "code",
   "execution_count": 13,
   "metadata": {},
   "outputs": [
    {
     "data": {
      "image/png": "[encoded data removed]",
      "text/plain": [
       "<matplotlib.figure.Figure at 0x7f27bff9aa90>"
      ]
     },
     "metadata": {},
     "output_type": "display_data"
    }
   ],
   "source": [
    "plt.semilogy(reals.sim_mag, reals.SIGNIFICANCE, '.', alpha=0.6,label=r'Obj Hallados')\n",
    "plt.ylabel(r'$log_{10}(\\alpha)$', fontsize=16)\n",
    "plt.hlines(y=3.5, xmax=27, xmin=8., label=r'$3.5\\sigma$', alpha=0.3)\n",
    "plt.hlines(y=5, xmax=27, xmin=8., label=r'$5\\sigma$', alpha=0.5)\n",
    "plt.tick_params(labelsize=16)\n",
    "plt.xlabel('$Mag_{sim}$', fontsize=16)\n",
    "plt.legend(loc='best', fontsize=16)\n",
    "plt.savefig('mag_vs_significance.png', dpi=420)"
   ]
  },
  {
   "cell_type": "code",
   "execution_count": 14,
   "metadata": {},
   "outputs": [
    {
     "data": {
      "text/plain": [
       "31070"
      ]
     },
     "execution_count": 14,
     "metadata": {},
     "output_type": "execute_result"
    }
   ],
   "source": [
    "sum(reals.SIGNIFICANCE>5.)#/float(sum(reals.SIGNIFICANCE>3.5))"
   ]
  },
  {
   "cell_type": "code",
   "execution_count": 15,
   "metadata": {},
   "outputs": [
    {
     "data": {
      "text/plain": [
       "0.9971605934916349"
      ]
     },
     "execution_count": 15,
     "metadata": {},
     "output_type": "execute_result"
    }
   ],
   "source": [
    "float(sum(reals.SIGNIFICANCE>3.5))/len(reals)"
   ]
  },
  {
   "cell_type": "code",
   "execution_count": 16,
   "metadata": {},
   "outputs": [
    {
     "data": {
      "image/png": "[encoded data removed]",
      "text/plain": [
       "<matplotlib.figure.Figure at 0x7f27bf5d0150>"
      ]
     },
     "metadata": {},
     "output_type": "display_data"
    }
   ],
   "source": [
    "plt.figure(figsize=(10, 5))\n",
    "plt.subplot(121)\n",
    "bins=np.arange(0, 4, .1)\n",
    "\n",
    "plt.hist(np.log10(bogus.SIGNIFICANCE[bogus.SIGNIFICANCE>0.]), \n",
    "         log=True, alpha=1, label='Bogus', bins=bins, histtype='step', lw=2,\n",
    "         linestyle='-') #, cumulative=True, normed=True)\n",
    "\n",
    "plt.hist(np.log10(reals.SIGNIFICANCE[reals.SIGNIFICANCE>0.]), \n",
    "         log=True, alpha=1, label='Reals', bins=bins, histtype='step', lw=2,\n",
    "         linestyle='--') #, cumulative=True, normed=True)\n",
    "\n",
    "plt.vlines(x=np.log10(3.5), ymax=10e5, ymin=0., label=r'$3.5\\sigma$', alpha=0.3)\n",
    "plt.vlines(x=np.log10(5), linestyle=':', ymax=10e5, ymin=0., label=r'$5\\sigma$', alpha=0.5)\n",
    "\n",
    "plt.xlabel(r'$log_{10}(\\alpha)$', fontsize=16)\n",
    "plt.ylabel('N', fontsize=16)\n",
    "\n",
    "plt.tick_params(labelsize=16)\n",
    "plt.legend(loc='best', fontsize=16)\n",
    "\n",
    "plt.subplot(122)\n",
    "plt.semilogy(reals.sim_mag, reals.SIGNIFICANCE, '.', label=r'$\\alpha$')\n",
    "plt.ylabel(r'$log_{10}\\alpha$', fontsize=16)\n",
    "plt.hlines(y=3.5, xmax=27, xmin=12., label=r'$3.5\\sigma$', alpha=0.3)\n",
    "plt.hlines(y=5, xmax=27, xmin=12., label=r'$5\\sigma$', alpha=0.5)\n",
    "plt.tick_params(labelsize=16)\n",
    "plt.xlabel('Simulated Magnitude', fontsize=16)\n",
    "plt.legend(loc='best', fontsize=16)\n",
    "plt.tight_layout()\n",
    "plt.savefig('significance_magnitudes.png', dpi=420)"
   ]
  },
  {
   "cell_type": "code",
   "execution_count": 17,
   "metadata": {
    "collapsed": true
   },
   "outputs": [],
   "source": [
    "def TruePositives(dt, thresh, tot_sim):\n",
    "    detections = dt[dt.SIGNIFICANCE>thresh]\n",
    "    return np.sum(detections.IS_REAL)/float(tot_sim)\n",
    "\n",
    "def FalseNegatives(dt, thresh, tot_sim):\n",
    "    return 1.-TruePositives(dt, thresh, tot_sim)\n",
    "\n",
    "def FalsePositives(dt, thresh, tot_sim):\n",
    "    detections = dt[dt.SIGNIFICANCE>thresh]\n",
    "    return (len(detections) - np.sum(detections.IS_REAL))/float(tot_sim)"
   ]
  },
  {
   "cell_type": "code",
   "execution_count": 18,
   "metadata": {
    "collapsed": true
   },
   "outputs": [],
   "source": [
    "tot_sim = len(simulated)"
   ]
  },
  {
   "cell_type": "code",
   "execution_count": 19,
   "metadata": {},
   "outputs": [
    {
     "data": {
      "image/png": "[encoded data removed]",
      "text/plain": [
       "<matplotlib.figure.Figure at 0x7f27bf5d3890>"
      ]
     },
     "metadata": {},
     "output_type": "display_data"
    }
   ],
   "source": [
    "plt.rcParams['text.usetex'] = True\n",
    "plt.figure(figsize=(8, 4))\n",
    "plt.fill_between(x=np.arange(0., 4., 0.1), y1=0.,\n",
    "                 y2=[TruePositives(dt_scr, th, tot_sim) for th in 10**np.arange(0., 4., 0.1)],\n",
    "                 label='Hallados', alpha=1)\n",
    "\n",
    "plt.fill_between(x=np.arange(0., 4., 0.1), \n",
    "                 y1=[TruePositives(dt_scr, th, tot_sim) for th in 10**np.arange(0., 4., 0.1)], \n",
    "                 y2=1, label='Perdidos')\n",
    "\n",
    "plt.fill_between(x=np.arange(0., 4., 0.1), y1=1.,\n",
    "                 y2=[1.+FalsePositives(dt_scr, th, tot_sim) for th in 10**np.arange(0., 4., 0.1)],\n",
    "                 label='Falsos')\n",
    "plt.vlines(x=np.log10(3.5), ymax=2.1, ymin=0., label=r'$3.5\\alpha$', alpha=0.3)\n",
    "plt.vlines(x=np.log10(5), linestyle=':', ymax=2.1, ymin=0., label=r'$5\\alpha$', alpha=0.5)\n",
    "\n",
    "plt.xlabel(r'$log_{10} \\ \\alpha$', fontsize=16)\n",
    "plt.ylabel('Fraccion', fontsize=16)\n",
    "plt.legend(loc='best', fontsize=16)\n",
    "plt.tick_params(labelsize=16)\n",
    "plt.savefig('scorr_thresholds.png', dpi=480)"
   ]
  },
  {
   "cell_type": "code",
   "execution_count": 20,
   "metadata": {},
   "outputs": [
    {
     "data": {
      "image/png": "[encoded data removed]",
      "text/plain": [
       "<matplotlib.figure.Figure at 0x7f27bf258510>"
      ]
     },
     "metadata": {},
     "output_type": "display_data"
    }
   ],
   "source": [
    "from matplotlib.ticker import NullFormatter\n",
    "\n",
    "nullfmt = NullFormatter()         # no labels\n",
    "\n",
    "#positions\n",
    "left, width = 0.12, 0.82\n",
    "bottom, height = 0.12, 0.42\n",
    "bottom_h = bottom + height + 0.02\n",
    "left_h = left + width + 0.02\n",
    "\n",
    "rect_scatter = [left, bottom, width, height]\n",
    "rect_histx = [left, bottom_h, width, 0.4]\n",
    "\n",
    "#figure\n",
    "plt.figure(1, figsize=(8, 6))\n",
    "\n",
    "axScatter = plt.axes(rect_scatter)\n",
    "axHistx = plt.axes(rect_histx)\n",
    "\n",
    "# no labels\n",
    "axHistx.xaxis.set_major_formatter(nullfmt)\n",
    "\n",
    "# the scatter plot:\n",
    "axScatter.hist(np.log10(bogus.SIGNIFICANCE[bogus.SIGNIFICANCE>0.]), alpha=0.9,\n",
    "         log=True, label='Bogus', bins=bins, histtype='stepfilled', lw=2,\n",
    "         linestyle='-', color=sns.color_palette()[2]) #, cumulative=True, normed=True)\n",
    "\n",
    "axScatter.hist(np.log10(reals.SIGNIFICANCE[reals.SIGNIFICANCE>0.]), alpha=0.6,\n",
    "         log=True, label='Reals', bins=bins, histtype='stepfilled', lw=2,\n",
    "         linestyle='--', color=sns.color_palette()[0]) #, cumulative=True, normed=True)\n",
    "\n",
    "axScatter.vlines(x=np.log10(3.5), ymax=10e5, ymin=0., label=r'$3.5\\sigma$', alpha=0.6)\n",
    "axScatter.vlines(x=np.log10(5), linestyle=':', ymax=10e5, ymin=0., label=r'$5\\sigma$', alpha=0.6)\n",
    "\n",
    "axScatter.set_xlabel(r'$log_{10}(\\alpha)$', fontsize=16)\n",
    "axScatter.set_ylabel('N', fontsize=16)\n",
    "\n",
    "axScatter.tick_params(labelsize=16)\n",
    "axScatter.legend(loc='best', fontsize=16)\n",
    "\n",
    "# now determine nice limits by hand:\n",
    "axScatter.set_xlim((0, 4))\n",
    "# axScatter.set_ylim((-lim, lim))\n",
    "\n",
    "axHistx.fill_between(x=bins, y1=0.,\n",
    "                 y2=[TruePositives(dt_scr, th, tot_sim) for th in 10**bins],\n",
    "                 label='TP', alpha=0.7)\n",
    "\n",
    "axHistx.fill_between(x=bins, \n",
    "                 y1=[TruePositives(dt_scr, th, tot_sim) for th in 10**bins], \n",
    "                 y2=1, label='FN', alpha=0.9)\n",
    "\n",
    "axHistx.fill_between(x=bins, y1=1.,\n",
    "                 y2=[1.+FalsePositives(dt_scr, th, tot_sim) for th in 10**bins],\n",
    "                 label='FP', alpha=0.9)\n",
    "axHistx.vlines(x=np.log10(3.5), ymax=2.1, ymin=0., alpha=0.6)#, label=r'$3.5\\sigma$', alpha=0.3)\n",
    "axHistx.vlines(x=np.log10(5), linestyle=':', ymax=2.1, ymin=0., alpha=0.6)#, label=r'$5\\sigma$', alpha=0.5)\n",
    "\n",
    "axHistx.set_ylabel('N', fontsize=14)\n",
    "axHistx.legend(loc='best', fontsize=14)\n",
    "axHistx.tick_params(labelsize=14)\n",
    "\n",
    "axHistx.tick_params(labelsize=14)\n",
    "axHistx.set_xlim(axScatter.get_xlim())\n",
    "axHistx.set_ylabel('N')\n",
    "\n",
    "plt.savefig('significance_values.pdf', format='pdf', dpi=420)"
   ]
  },
  {
   "cell_type": "code",
   "execution_count": 21,
   "metadata": {},
   "outputs": [
    {
     "data": {
      "text/plain": [
       "(0.29803921568627451, 0.44705882352941179, 0.69019607843137254)"
      ]
     },
     "execution_count": 21,
     "metadata": {},
     "output_type": "execute_result"
    }
   ],
   "source": [
    "sns.color_palette()[0]"
   ]
  },
  {
   "cell_type": "code",
   "execution_count": null,
   "metadata": {
    "collapsed": true
   },
   "outputs": [],
   "source": []
  },
  {
   "cell_type": "code",
   "execution_count": null,
   "metadata": {
    "collapsed": true
   },
   "outputs": [],
   "source": []
  }
 ],
 "metadata": {
  "kernelspec": {
   "display_name": "Python 2",
   "language": "python",
   "name": "python2"
  },
  "language_info": {
   "codemirror_mode": {
    "name": "ipython",
    "version": 2
   },
   "file_extension": ".py",
   "mimetype": "text/x-python",
   "name": "python",
   "nbconvert_exporter": "python",
   "pygments_lexer": "ipython2",
   "version": "2.7.12"
  }
 },
 "nbformat": 4,
 "nbformat_minor": 2
}
