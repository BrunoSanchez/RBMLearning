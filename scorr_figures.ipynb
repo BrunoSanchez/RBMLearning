{
 "cells": [
  {
   "cell_type": "markdown",
   "metadata": {},
   "source": [
    "## $S_{corr} > 3.5 \\sigma$"
   ]
  },
  {
   "cell_type": "markdown",
   "metadata": {},
   "source": [
    "Como va la franja de reals y bogus?"
   ]
  },
  {
   "cell_type": "code",
   "execution_count": 1,
   "metadata": {
    "collapsed": true
   },
   "outputs": [],
   "source": [
    "import numpy as np\n",
    "%matplotlib inline\n",
    "import matplotlib.pyplot as plt\n",
    "import seaborn as sns"
   ]
  },
  {
   "cell_type": "code",
   "execution_count": 2,
   "metadata": {
    "collapsed": true
   },
   "outputs": [],
   "source": [
    "from sqlalchemy import create_engine\n",
    "import pandas as pd"
   ]
  },
  {
   "cell_type": "code",
   "execution_count": 3,
   "metadata": {
    "collapsed": true
   },
   "outputs": [],
   "source": [
    "sns.set_context(font_scale=16)\n",
    "plt.rcParams[\"patch.force_edgecolor\"] = True\n",
    "plt.rcParams['text.usetex'] = True"
   ]
  },
  {
   "cell_type": "code",
   "execution_count": 4,
   "metadata": {
    "collapsed": true
   },
   "outputs": [],
   "source": [
    "engine = create_engine('sqlite:///../RBpipeline/newrbogus22-dev.db')"
   ]
  },
  {
   "cell_type": "code",
   "execution_count": 5,
   "metadata": {
    "collapsed": true
   },
   "outputs": [],
   "source": [
    "simulated = pd.read_sql_query(\"\"\"SELECT * FROM Simulated\"\"\", engine)"
   ]
  },
  {
   "cell_type": "code",
   "execution_count": 6,
   "metadata": {
    "collapsed": true
   },
   "outputs": [],
   "source": [
    "dt_scr = pd.merge(pd.read_sql_table('SCorrDetected', engine),\n",
    "                  pd.read_sql_query(\"\"\"SELECT \n",
    "                                        SCorrDetected.id,\n",
    "                                        Simulated.app_mag as sim_mag,\n",
    "                                        Simulated.id as sim_id \n",
    "                                    FROM SCorrDetected\n",
    "                                        LEFT JOIN SCorrReals\n",
    "                                            ON SCorrDetected.id==SCorrReals.detected_id\n",
    "                                        LEFT JOIN Simulated\n",
    "                                            ON Simulated.id==SCorrReals.simulated_id\"\"\", engine),\n",
    "                                      on='id', suffixes=('',''))"
   ]
  },
  {
   "cell_type": "code",
   "execution_count": 7,
   "metadata": {},
   "outputs": [
    {
     "data": {
      "text/html": [
       "<div>\n",
       "<style>\n",
       "    .dataframe thead tr:only-child th {\n",
       "        text-align: right;\n",
       "    }\n",
       "\n",
       "    .dataframe thead th {\n",
       "        text-align: left;\n",
       "    }\n",
       "\n",
       "    .dataframe tbody tr th {\n",
       "        vertical-align: top;\n",
       "    }\n",
       "</style>\n",
       "<table border=\"1\" class=\"dataframe\">\n",
       "  <thead>\n",
       "    <tr style=\"text-align: right;\">\n",
       "      <th></th>\n",
       "      <th>id</th>\n",
       "      <th>X_IMAGE</th>\n",
       "      <th>Y_IMAGE</th>\n",
       "      <th>SIGNIFICANCE</th>\n",
       "      <th>image_id</th>\n",
       "      <th>sim_mag</th>\n",
       "      <th>sim_id</th>\n",
       "    </tr>\n",
       "  </thead>\n",
       "  <tbody>\n",
       "    <tr>\n",
       "      <th>count</th>\n",
       "      <td>40297.000000</td>\n",
       "      <td>40297.000000</td>\n",
       "      <td>40297.000000</td>\n",
       "      <td>40297.000000</td>\n",
       "      <td>40297.000000</td>\n",
       "      <td>14094.000000</td>\n",
       "      <td>14094.000000</td>\n",
       "    </tr>\n",
       "    <tr>\n",
       "      <th>mean</th>\n",
       "      <td>20149.000000</td>\n",
       "      <td>514.259630</td>\n",
       "      <td>508.935888</td>\n",
       "      <td>29.761659</td>\n",
       "      <td>251.521974</td>\n",
       "      <td>21.342691</td>\n",
       "      <td>19550.163687</td>\n",
       "    </tr>\n",
       "    <tr>\n",
       "      <th>std</th>\n",
       "      <td>11632.886235</td>\n",
       "      <td>296.430079</td>\n",
       "      <td>297.947634</td>\n",
       "      <td>119.213881</td>\n",
       "      <td>143.780955</td>\n",
       "      <td>1.404319</td>\n",
       "      <td>11124.882770</td>\n",
       "    </tr>\n",
       "    <tr>\n",
       "      <th>min</th>\n",
       "      <td>1.000000</td>\n",
       "      <td>0.000000</td>\n",
       "      <td>0.000000</td>\n",
       "      <td>-170.846727</td>\n",
       "      <td>1.000000</td>\n",
       "      <td>13.664131</td>\n",
       "      <td>2.000000</td>\n",
       "    </tr>\n",
       "    <tr>\n",
       "      <th>25%</th>\n",
       "      <td>10075.000000</td>\n",
       "      <td>259.410100</td>\n",
       "      <td>249.140343</td>\n",
       "      <td>3.748996</td>\n",
       "      <td>126.000000</td>\n",
       "      <td>20.618834</td>\n",
       "      <td>10109.500000</td>\n",
       "    </tr>\n",
       "    <tr>\n",
       "      <th>50%</th>\n",
       "      <td>20149.000000</td>\n",
       "      <td>515.795043</td>\n",
       "      <td>507.000000</td>\n",
       "      <td>5.810919</td>\n",
       "      <td>253.000000</td>\n",
       "      <td>21.594198</td>\n",
       "      <td>19394.500000</td>\n",
       "    </tr>\n",
       "    <tr>\n",
       "      <th>75%</th>\n",
       "      <td>30223.000000</td>\n",
       "      <td>770.689369</td>\n",
       "      <td>767.603501</td>\n",
       "      <td>15.635205</td>\n",
       "      <td>376.000000</td>\n",
       "      <td>22.353458</td>\n",
       "      <td>29342.750000</td>\n",
       "    </tr>\n",
       "    <tr>\n",
       "      <th>max</th>\n",
       "      <td>40297.000000</td>\n",
       "      <td>1023.000000</td>\n",
       "      <td>1023.000000</td>\n",
       "      <td>2482.045036</td>\n",
       "      <td>500.000000</td>\n",
       "      <td>25.461951</td>\n",
       "      <td>38510.000000</td>\n",
       "    </tr>\n",
       "  </tbody>\n",
       "</table>\n",
       "</div>"
      ],
      "text/plain": [
       "                 id       X_IMAGE       Y_IMAGE  SIGNIFICANCE      image_id  \\\n",
       "count  40297.000000  40297.000000  40297.000000  40297.000000  40297.000000   \n",
       "mean   20149.000000    514.259630    508.935888     29.761659    251.521974   \n",
       "std    11632.886235    296.430079    297.947634    119.213881    143.780955   \n",
       "min        1.000000      0.000000      0.000000   -170.846727      1.000000   \n",
       "25%    10075.000000    259.410100    249.140343      3.748996    126.000000   \n",
       "50%    20149.000000    515.795043    507.000000      5.810919    253.000000   \n",
       "75%    30223.000000    770.689369    767.603501     15.635205    376.000000   \n",
       "max    40297.000000   1023.000000   1023.000000   2482.045036    500.000000   \n",
       "\n",
       "            sim_mag        sim_id  \n",
       "count  14094.000000  14094.000000  \n",
       "mean      21.342691  19550.163687  \n",
       "std        1.404319  11124.882770  \n",
       "min       13.664131      2.000000  \n",
       "25%       20.618834  10109.500000  \n",
       "50%       21.594198  19394.500000  \n",
       "75%       22.353458  29342.750000  \n",
       "max       25.461951  38510.000000  "
      ]
     },
     "execution_count": 7,
     "metadata": {},
     "output_type": "execute_result"
    }
   ],
   "source": [
    "dt_scr.describe()"
   ]
  },
  {
   "cell_type": "code",
   "execution_count": 8,
   "metadata": {
    "collapsed": true
   },
   "outputs": [],
   "source": [
    "reals = dt_scr[dt_scr.IS_REAL==True]\n",
    "bogus = dt_scr[dt_scr.IS_REAL==False]"
   ]
  },
  {
   "cell_type": "code",
   "execution_count": 9,
   "metadata": {},
   "outputs": [
    {
     "data": {
      "text/html": [
       "<div>\n",
       "<style>\n",
       "    .dataframe thead tr:only-child th {\n",
       "        text-align: right;\n",
       "    }\n",
       "\n",
       "    .dataframe thead th {\n",
       "        text-align: left;\n",
       "    }\n",
       "\n",
       "    .dataframe tbody tr th {\n",
       "        vertical-align: top;\n",
       "    }\n",
       "</style>\n",
       "<table border=\"1\" class=\"dataframe\">\n",
       "  <thead>\n",
       "    <tr style=\"text-align: right;\">\n",
       "      <th></th>\n",
       "      <th>id</th>\n",
       "      <th>X_IMAGE</th>\n",
       "      <th>Y_IMAGE</th>\n",
       "      <th>SIGNIFICANCE</th>\n",
       "      <th>image_id</th>\n",
       "      <th>sim_mag</th>\n",
       "      <th>sim_id</th>\n",
       "    </tr>\n",
       "  </thead>\n",
       "  <tbody>\n",
       "    <tr>\n",
       "      <th>count</th>\n",
       "      <td>14094.000000</td>\n",
       "      <td>14094.000000</td>\n",
       "      <td>14094.000000</td>\n",
       "      <td>14094.000000</td>\n",
       "      <td>14094.000000</td>\n",
       "      <td>14094.000000</td>\n",
       "      <td>14094.000000</td>\n",
       "    </tr>\n",
       "    <tr>\n",
       "      <th>mean</th>\n",
       "      <td>20377.041294</td>\n",
       "      <td>512.808824</td>\n",
       "      <td>510.587196</td>\n",
       "      <td>55.827538</td>\n",
       "      <td>254.272031</td>\n",
       "      <td>21.342691</td>\n",
       "      <td>19550.163687</td>\n",
       "    </tr>\n",
       "    <tr>\n",
       "      <th>std</th>\n",
       "      <td>11689.171707</td>\n",
       "      <td>290.128259</td>\n",
       "      <td>291.995042</td>\n",
       "      <td>176.860231</td>\n",
       "      <td>144.434541</td>\n",
       "      <td>1.404319</td>\n",
       "      <td>11124.882770</td>\n",
       "    </tr>\n",
       "    <tr>\n",
       "      <th>min</th>\n",
       "      <td>4.000000</td>\n",
       "      <td>8.557303</td>\n",
       "      <td>8.485915</td>\n",
       "      <td>3.149219</td>\n",
       "      <td>1.000000</td>\n",
       "      <td>13.664131</td>\n",
       "      <td>2.000000</td>\n",
       "    </tr>\n",
       "    <tr>\n",
       "      <th>25%</th>\n",
       "      <td>10406.250000</td>\n",
       "      <td>261.551690</td>\n",
       "      <td>257.600645</td>\n",
       "      <td>6.737161</td>\n",
       "      <td>131.000000</td>\n",
       "      <td>20.618834</td>\n",
       "      <td>10109.500000</td>\n",
       "    </tr>\n",
       "    <tr>\n",
       "      <th>50%</th>\n",
       "      <td>20161.500000</td>\n",
       "      <td>512.658899</td>\n",
       "      <td>508.721986</td>\n",
       "      <td>13.488556</td>\n",
       "      <td>253.000000</td>\n",
       "      <td>21.594198</td>\n",
       "      <td>19394.500000</td>\n",
       "    </tr>\n",
       "    <tr>\n",
       "      <th>75%</th>\n",
       "      <td>30680.750000</td>\n",
       "      <td>764.039010</td>\n",
       "      <td>766.405085</td>\n",
       "      <td>33.222329</td>\n",
       "      <td>381.000000</td>\n",
       "      <td>22.353458</td>\n",
       "      <td>29342.750000</td>\n",
       "    </tr>\n",
       "    <tr>\n",
       "      <th>max</th>\n",
       "      <td>40296.000000</td>\n",
       "      <td>1013.510518</td>\n",
       "      <td>1013.078278</td>\n",
       "      <td>2482.045036</td>\n",
       "      <td>500.000000</td>\n",
       "      <td>25.461951</td>\n",
       "      <td>38510.000000</td>\n",
       "    </tr>\n",
       "  </tbody>\n",
       "</table>\n",
       "</div>"
      ],
      "text/plain": [
       "                 id       X_IMAGE       Y_IMAGE  SIGNIFICANCE      image_id  \\\n",
       "count  14094.000000  14094.000000  14094.000000  14094.000000  14094.000000   \n",
       "mean   20377.041294    512.808824    510.587196     55.827538    254.272031   \n",
       "std    11689.171707    290.128259    291.995042    176.860231    144.434541   \n",
       "min        4.000000      8.557303      8.485915      3.149219      1.000000   \n",
       "25%    10406.250000    261.551690    257.600645      6.737161    131.000000   \n",
       "50%    20161.500000    512.658899    508.721986     13.488556    253.000000   \n",
       "75%    30680.750000    764.039010    766.405085     33.222329    381.000000   \n",
       "max    40296.000000   1013.510518   1013.078278   2482.045036    500.000000   \n",
       "\n",
       "            sim_mag        sim_id  \n",
       "count  14094.000000  14094.000000  \n",
       "mean      21.342691  19550.163687  \n",
       "std        1.404319  11124.882770  \n",
       "min       13.664131      2.000000  \n",
       "25%       20.618834  10109.500000  \n",
       "50%       21.594198  19394.500000  \n",
       "75%       22.353458  29342.750000  \n",
       "max       25.461951  38510.000000  "
      ]
     },
     "execution_count": 9,
     "metadata": {},
     "output_type": "execute_result"
    }
   ],
   "source": [
    "reals.describe()"
   ]
  },
  {
   "cell_type": "code",
   "execution_count": 10,
   "metadata": {},
   "outputs": [
    {
     "data": {
      "text/html": [
       "<div>\n",
       "<style>\n",
       "    .dataframe thead tr:only-child th {\n",
       "        text-align: right;\n",
       "    }\n",
       "\n",
       "    .dataframe thead th {\n",
       "        text-align: left;\n",
       "    }\n",
       "\n",
       "    .dataframe tbody tr th {\n",
       "        vertical-align: top;\n",
       "    }\n",
       "</style>\n",
       "<table border=\"1\" class=\"dataframe\">\n",
       "  <thead>\n",
       "    <tr style=\"text-align: right;\">\n",
       "      <th></th>\n",
       "      <th>id</th>\n",
       "      <th>X_IMAGE</th>\n",
       "      <th>Y_IMAGE</th>\n",
       "      <th>SIGNIFICANCE</th>\n",
       "      <th>image_id</th>\n",
       "      <th>sim_mag</th>\n",
       "      <th>sim_id</th>\n",
       "    </tr>\n",
       "  </thead>\n",
       "  <tbody>\n",
       "    <tr>\n",
       "      <th>count</th>\n",
       "      <td>26203.000000</td>\n",
       "      <td>26203.000000</td>\n",
       "      <td>26203.000000</td>\n",
       "      <td>26203.000000</td>\n",
       "      <td>26203.000000</td>\n",
       "      <td>0.0</td>\n",
       "      <td>0.0</td>\n",
       "    </tr>\n",
       "    <tr>\n",
       "      <th>mean</th>\n",
       "      <td>20026.341755</td>\n",
       "      <td>515.039986</td>\n",
       "      <td>508.047687</td>\n",
       "      <td>15.741413</td>\n",
       "      <td>250.042781</td>\n",
       "      <td>NaN</td>\n",
       "      <td>NaN</td>\n",
       "    </tr>\n",
       "    <tr>\n",
       "      <th>std</th>\n",
       "      <td>11600.868256</td>\n",
       "      <td>299.767478</td>\n",
       "      <td>301.102509</td>\n",
       "      <td>66.861671</td>\n",
       "      <td>143.409126</td>\n",
       "      <td>NaN</td>\n",
       "      <td>NaN</td>\n",
       "    </tr>\n",
       "    <tr>\n",
       "      <th>min</th>\n",
       "      <td>1.000000</td>\n",
       "      <td>0.000000</td>\n",
       "      <td>0.000000</td>\n",
       "      <td>-170.846727</td>\n",
       "      <td>1.000000</td>\n",
       "      <td>NaN</td>\n",
       "      <td>NaN</td>\n",
       "    </tr>\n",
       "    <tr>\n",
       "      <th>25%</th>\n",
       "      <td>9832.500000</td>\n",
       "      <td>257.501657</td>\n",
       "      <td>244.913043</td>\n",
       "      <td>3.609919</td>\n",
       "      <td>124.000000</td>\n",
       "      <td>NaN</td>\n",
       "      <td>NaN</td>\n",
       "    </tr>\n",
       "    <tr>\n",
       "      <th>50%</th>\n",
       "      <td>20142.000000</td>\n",
       "      <td>517.012547</td>\n",
       "      <td>506.366470</td>\n",
       "      <td>4.047633</td>\n",
       "      <td>253.000000</td>\n",
       "      <td>NaN</td>\n",
       "      <td>NaN</td>\n",
       "    </tr>\n",
       "    <tr>\n",
       "      <th>75%</th>\n",
       "      <td>29962.500000</td>\n",
       "      <td>774.090129</td>\n",
       "      <td>768.000000</td>\n",
       "      <td>8.360504</td>\n",
       "      <td>372.000000</td>\n",
       "      <td>NaN</td>\n",
       "      <td>NaN</td>\n",
       "    </tr>\n",
       "    <tr>\n",
       "      <th>max</th>\n",
       "      <td>40297.000000</td>\n",
       "      <td>1023.000000</td>\n",
       "      <td>1023.000000</td>\n",
       "      <td>2365.103129</td>\n",
       "      <td>500.000000</td>\n",
       "      <td>NaN</td>\n",
       "      <td>NaN</td>\n",
       "    </tr>\n",
       "  </tbody>\n",
       "</table>\n",
       "</div>"
      ],
      "text/plain": [
       "                 id       X_IMAGE       Y_IMAGE  SIGNIFICANCE      image_id  \\\n",
       "count  26203.000000  26203.000000  26203.000000  26203.000000  26203.000000   \n",
       "mean   20026.341755    515.039986    508.047687     15.741413    250.042781   \n",
       "std    11600.868256    299.767478    301.102509     66.861671    143.409126   \n",
       "min        1.000000      0.000000      0.000000   -170.846727      1.000000   \n",
       "25%     9832.500000    257.501657    244.913043      3.609919    124.000000   \n",
       "50%    20142.000000    517.012547    506.366470      4.047633    253.000000   \n",
       "75%    29962.500000    774.090129    768.000000      8.360504    372.000000   \n",
       "max    40297.000000   1023.000000   1023.000000   2365.103129    500.000000   \n",
       "\n",
       "       sim_mag  sim_id  \n",
       "count      0.0     0.0  \n",
       "mean       NaN     NaN  \n",
       "std        NaN     NaN  \n",
       "min        NaN     NaN  \n",
       "25%        NaN     NaN  \n",
       "50%        NaN     NaN  \n",
       "75%        NaN     NaN  \n",
       "max        NaN     NaN  "
      ]
     },
     "execution_count": 10,
     "metadata": {},
     "output_type": "execute_result"
    }
   ],
   "source": [
    "bogus.describe()"
   ]
  },
  {
   "cell_type": "code",
   "execution_count": 11,
   "metadata": {},
   "outputs": [
    {
     "name": "stdout",
     "output_type": "stream",
     "text": [
      "0\n",
      "53\n"
     ]
    }
   ],
   "source": [
    "print sum(reals.SIGNIFICANCE<=0.)\n",
    "print sum(bogus.SIGNIFICANCE<=0.)"
   ]
  },
  {
   "cell_type": "code",
   "execution_count": 13,
   "metadata": {
    "collapsed": true
   },
   "outputs": [],
   "source": [
    "sns.reset_orig()"
   ]
  },
  {
   "cell_type": "code",
   "execution_count": 17,
   "metadata": {
    "scrolled": false
   },
   "outputs": [
    {
     "data": {
      "image/png": "[encoded data removed]",
      "text/plain": [
       "<matplotlib.figure.Figure at 0x7fdaec36d850>"
      ]
     },
     "metadata": {},
     "output_type": "display_data"
    }
   ],
   "source": [
    "plt.figure(figsize=(6,4))\n",
    "bins=np.arange(0, 4, .1)\n",
    "\n",
    "plt.hist(np.log10(bogus.SIGNIFICANCE[bogus.SIGNIFICANCE>0.]), \n",
    "         log=True, alpha=1, label='Bogus', bins=bins, histtype='step', lw=2,\n",
    "         linestyle='-') #, cumulative=True, normed=True)\n",
    "\n",
    "plt.hist(np.log10(reals.SIGNIFICANCE[reals.SIGNIFICANCE>0.]), \n",
    "         log=True, alpha=1, label='Reals', bins=bins, histtype='step', lw=2,\n",
    "         linestyle='--') #, cumulative=True, normed=True)\n",
    "\n",
    "plt.vlines(x=np.log10(3.5), ymax=10e5, ymin=0., label=r'$3.5\\sigma$', alpha=0.3)\n",
    "plt.vlines(x=np.log10(5), linestyle=':', ymax=10e5, ymin=0., label=r'$5\\sigma$', alpha=0.5)\n",
    "\n",
    "plt.xlabel(r'$log_{10}(\\alpha)$', fontsize=16)\n",
    "plt.ylabel('N', fontsize=16)\n",
    "\n",
    "plt.tick_params(labelsize=16)\n",
    "plt.legend(loc='best', fontsize=16)\n",
    "plt.savefig('significances.svg', dpi=720)"
   ]
  },
  {
   "cell_type": "code",
   "execution_count": 13,
   "metadata": {},
   "outputs": [
    {
     "data": {
      "image/png": "[encoded data removed]",
      "text/plain": [
       "<matplotlib.figure.Figure at 0x7fed35984c90>"
      ]
     },
     "metadata": {},
     "output_type": "display_data"
    }
   ],
   "source": [
    "plt.semilogy(reals.sim_mag, reals.SIGNIFICANCE, '.', alpha=0.6,label=r'Obj Hallados')\n",
    "plt.ylabel(r'$log_{10}(\\alpha)$', fontsize=16)\n",
    "plt.hlines(y=3.5, xmax=27, xmin=8., label=r'$3.5\\sigma$', alpha=0.3)\n",
    "plt.hlines(y=5, xmax=27, xmin=8., label=r'$5\\sigma$', alpha=0.5)\n",
    "plt.tick_params(labelsize=16)\n",
    "plt.xlabel('$Mag_{sim}$', fontsize=16)\n",
    "plt.legend(loc='best', fontsize=16)\n",
    "plt.savefig('mag_vs_significance.png', dpi=420)"
   ]
  },
  {
   "cell_type": "code",
   "execution_count": 14,
   "metadata": {},
   "outputs": [
    {
     "data": {
      "text/plain": [
       "12114"
      ]
     },
     "execution_count": 14,
     "metadata": {},
     "output_type": "execute_result"
    }
   ],
   "source": [
    "sum(reals.SIGNIFICANCE>5.)#/float(sum(reals.SIGNIFICANCE>3.5))"
   ]
  },
  {
   "cell_type": "code",
   "execution_count": 15,
   "metadata": {},
   "outputs": [
    {
     "data": {
      "text/plain": [
       "0.9973038172271889"
      ]
     },
     "execution_count": 15,
     "metadata": {},
     "output_type": "execute_result"
    }
   ],
   "source": [
    "float(sum(reals.SIGNIFICANCE>3.5))/len(reals)"
   ]
  },
  {
   "cell_type": "code",
   "execution_count": 16,
   "metadata": {},
   "outputs": [
    {
     "data": {
      "image/png": "[encoded data removed]",
      "text/plain": [
       "<matplotlib.figure.Figure at 0x7fed347c5310>"
      ]
     },
     "metadata": {},
     "output_type": "display_data"
    }
   ],
   "source": [
    "plt.figure(figsize=(10, 5))\n",
    "plt.subplot(121)\n",
    "bins=np.arange(0, 4, .1)\n",
    "\n",
    "plt.hist(np.log10(bogus.SIGNIFICANCE[bogus.SIGNIFICANCE>0.]), \n",
    "         log=True, alpha=1, label='Bogus', bins=bins, histtype='step', lw=2,\n",
    "         linestyle='-') #, cumulative=True, normed=True)\n",
    "\n",
    "plt.hist(np.log10(reals.SIGNIFICANCE[reals.SIGNIFICANCE>0.]), \n",
    "         log=True, alpha=1, label='Reals', bins=bins, histtype='step', lw=2,\n",
    "         linestyle='--') #, cumulative=True, normed=True)\n",
    "\n",
    "plt.vlines(x=np.log10(3.5), ymax=10e5, ymin=0., label=r'$3.5\\sigma$', alpha=0.3)\n",
    "plt.vlines(x=np.log10(5), linestyle=':', ymax=10e5, ymin=0., label=r'$5\\sigma$', alpha=0.5)\n",
    "\n",
    "plt.xlabel(r'$log_{10}(\\alpha)$', fontsize=16)\n",
    "plt.ylabel('N', fontsize=16)\n",
    "\n",
    "plt.tick_params(labelsize=16)\n",
    "plt.legend(loc='best', fontsize=16)\n",
    "\n",
    "plt.subplot(122)\n",
    "plt.semilogy(reals.sim_mag, reals.SIGNIFICANCE, '.', label=r'$\\alpha$')\n",
    "plt.ylabel(r'$log_{10}\\alpha$', fontsize=16)\n",
    "plt.hlines(y=3.5, xmax=27, xmin=12., label=r'$3.5\\sigma$', alpha=0.3)\n",
    "plt.hlines(y=5, xmax=27, xmin=12., label=r'$5\\sigma$', alpha=0.5)\n",
    "plt.tick_params(labelsize=16)\n",
    "plt.xlabel('Simulated Magnitude', fontsize=16)\n",
    "plt.legend(loc='best', fontsize=16)\n",
    "plt.tight_layout()\n",
    "plt.savefig('significance_magnitudes.png', dpi=420)"
   ]
  },
  {
   "cell_type": "code",
   "execution_count": 17,
   "metadata": {
    "collapsed": true
   },
   "outputs": [],
   "source": [
    "def TruePositives(dt, thresh, tot_sim):\n",
    "    detections = dt[dt.SIGNIFICANCE>thresh]\n",
    "    return np.sum(detections.IS_REAL)/float(tot_sim)\n",
    "\n",
    "def FalseNegatives(dt, thresh, tot_sim):\n",
    "    return 1.-TruePositives(dt, thresh, tot_sim)\n",
    "\n",
    "def FalsePositives(dt, thresh, tot_sim):\n",
    "    detections = dt[dt.SIGNIFICANCE>thresh]\n",
    "    return (len(detections) - np.sum(detections.IS_REAL))/float(tot_sim)"
   ]
  },
  {
   "cell_type": "code",
   "execution_count": 18,
   "metadata": {
    "collapsed": true
   },
   "outputs": [],
   "source": [
    "tot_sim = len(simulated)"
   ]
  },
  {
   "cell_type": "code",
   "execution_count": 19,
   "metadata": {},
   "outputs": [
    {
     "data": {
      "image/png": "[encoded data removed]",
      "text/plain": [
       "<matplotlib.figure.Figure at 0x7fed34625510>"
      ]
     },
     "metadata": {},
     "output_type": "display_data"
    }
   ],
   "source": [
    "plt.rcParams['text.usetex'] = True\n",
    "plt.figure(figsize=(8, 4))\n",
    "plt.fill_between(x=np.arange(0., 4., 0.1), y1=0.,\n",
    "                 y2=[TruePositives(dt_scr, th, tot_sim) for th in 10**np.arange(0., 4., 0.1)],\n",
    "                 label='Hallados', alpha=1)\n",
    "\n",
    "plt.fill_between(x=np.arange(0., 4., 0.1), \n",
    "                 y1=[TruePositives(dt_scr, th, tot_sim) for th in 10**np.arange(0., 4., 0.1)], \n",
    "                 y2=1, label='Perdidos')\n",
    "\n",
    "plt.fill_between(x=np.arange(0., 4., 0.1), y1=1.,\n",
    "                 y2=[1.+FalsePositives(dt_scr, th, tot_sim) for th in 10**np.arange(0., 4., 0.1)],\n",
    "                 label='Falsos')\n",
    "plt.vlines(x=np.log10(3.5), ymax=2.1, ymin=0., label=r'$3.5\\alpha$', alpha=0.3)\n",
    "plt.vlines(x=np.log10(5), linestyle=':', ymax=2.1, ymin=0., label=r'$5\\alpha$', alpha=0.5)\n",
    "\n",
    "plt.xlabel(r'$log_{10} \\ \\alpha$', fontsize=16)\n",
    "plt.ylabel('Fraccion', fontsize=16)\n",
    "plt.legend(loc='best', fontsize=16)\n",
    "plt.tick_params(labelsize=16)\n",
    "plt.savefig('scorr_thresholds.png', dpi=480)"
   ]
  },
  {
   "cell_type": "code",
   "execution_count": 20,
   "metadata": {},
   "outputs": [
    {
     "data": {
      "image/png": "[encoded data removed]",
      "text/plain": [
       "<matplotlib.figure.Figure at 0x7fed34438d50>"
      ]
     },
     "metadata": {},
     "output_type": "display_data"
    }
   ],
   "source": [
    "from matplotlib.ticker import NullFormatter\n",
    "\n",
    "nullfmt = NullFormatter()         # no labels\n",
    "\n",
    "#positions\n",
    "left, width = 0.12, 0.82\n",
    "bottom, height = 0.12, 0.42\n",
    "bottom_h = bottom + height + 0.02\n",
    "left_h = left + width + 0.02\n",
    "\n",
    "rect_scatter = [left, bottom, width, height]\n",
    "rect_histx = [left, bottom_h, width, 0.4]\n",
    "\n",
    "#figure\n",
    "plt.figure(1, figsize=(8, 6))\n",
    "\n",
    "axScatter = plt.axes(rect_scatter)\n",
    "axHistx = plt.axes(rect_histx)\n",
    "\n",
    "# no labels\n",
    "axHistx.xaxis.set_major_formatter(nullfmt)\n",
    "\n",
    "# the scatter plot:\n",
    "axScatter.hist(np.log10(bogus.SIGNIFICANCE[bogus.SIGNIFICANCE>0.]), alpha=0.9,\n",
    "         log=True, label='Bogus', bins=bins, histtype='stepfilled', lw=2,\n",
    "         linestyle='-', color=sns.color_palette()[2]) #, cumulative=True, normed=True)\n",
    "\n",
    "axScatter.hist(np.log10(reals.SIGNIFICANCE[reals.SIGNIFICANCE>0.]), alpha=0.6,\n",
    "         log=True, label='Reals', bins=bins, histtype='stepfilled', lw=2,\n",
    "         linestyle='--', color=sns.color_palette()[0]) #, cumulative=True, normed=True)\n",
    "\n",
    "axScatter.vlines(x=np.log10(3.5), ymax=10e5, ymin=0., label=r'$3.5\\sigma$', alpha=0.6)\n",
    "axScatter.vlines(x=np.log10(5), linestyle=':', ymax=10e5, ymin=0., label=r'$5\\sigma$', alpha=0.6)\n",
    "\n",
    "axScatter.set_xlabel(r'$log_{10}(\\alpha)$', fontsize=16)\n",
    "axScatter.set_ylabel('N', fontsize=16)\n",
    "\n",
    "axScatter.tick_params(labelsize=16)\n",
    "axScatter.legend(loc='best', fontsize=16)\n",
    "\n",
    "# now determine nice limits by hand:\n",
    "axScatter.set_xlim((0, 4))\n",
    "# axScatter.set_ylim((-lim, lim))\n",
    "\n",
    "axHistx.fill_between(x=bins, y1=0.,\n",
    "                 y2=[TruePositives(dt_scr, th, tot_sim) for th in 10**bins],\n",
    "                 label='TP', alpha=0.7)\n",
    "\n",
    "axHistx.fill_between(x=bins, \n",
    "                 y1=[TruePositives(dt_scr, th, tot_sim) for th in 10**bins], \n",
    "                 y2=1, label='FN', alpha=0.9)\n",
    "\n",
    "axHistx.fill_between(x=bins, y1=1.,\n",
    "                 y2=[1.+FalsePositives(dt_scr, th, tot_sim) for th in 10**bins],\n",
    "                 label='FP', alpha=0.9)\n",
    "axHistx.vlines(x=np.log10(3.5), ymax=2.1, ymin=0., alpha=0.6)#, label=r'$3.5\\sigma$', alpha=0.3)\n",
    "axHistx.vlines(x=np.log10(5), linestyle=':', ymax=2.1, ymin=0., alpha=0.6)#, label=r'$5\\sigma$', alpha=0.5)\n",
    "\n",
    "axHistx.set_ylabel('N', fontsize=14)\n",
    "axHistx.legend(loc='best', fontsize=14)\n",
    "axHistx.tick_params(labelsize=14)\n",
    "\n",
    "axHistx.tick_params(labelsize=14)\n",
    "axHistx.set_xlim(axScatter.get_xlim())\n",
    "axHistx.set_ylabel('N')\n",
    "\n",
    "plt.savefig('significance_values.pdf', format='pdf', dpi=420)"
   ]
  },
  {
   "cell_type": "code",
   "execution_count": 21,
   "metadata": {},
   "outputs": [
    {
     "data": {
      "text/plain": [
       "(0.29803921568627451, 0.44705882352941179, 0.69019607843137254)"
      ]
     },
     "execution_count": 21,
     "metadata": {},
     "output_type": "execute_result"
    }
   ],
   "source": [
    "sns.color_palette()[0]"
   ]
  },
  {
   "cell_type": "code",
   "execution_count": null,
   "metadata": {
    "collapsed": true
   },
   "outputs": [],
   "source": []
  },
  {
   "cell_type": "code",
   "execution_count": null,
   "metadata": {
    "collapsed": true
   },
   "outputs": [],
   "source": []
  }
 ],
 "metadata": {
  "kernelspec": {
   "display_name": "Python 2",
   "language": "python",
   "name": "python2"
  },
  "language_info": {
   "codemirror_mode": {
    "name": "ipython",
    "version": 2
   },
   "file_extension": ".py",
   "mimetype": "text/x-python",
   "name": "python",
   "nbconvert_exporter": "python",
   "pygments_lexer": "ipython2",
   "version": "2.7.12"
  }
 },
 "nbformat": 4,
 "nbformat_minor": 2
}
